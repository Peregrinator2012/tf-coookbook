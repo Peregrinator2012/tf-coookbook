{
 "cells": [
  {
   "cell_type": "code",
   "execution_count": 1,
   "metadata": {},
   "outputs": [],
   "source": [
    "import matplotlib as plt\n",
    "import numpy as np\n",
    "import tensorflow as tf"
   ]
  },
  {
   "cell_type": "code",
   "execution_count": 2,
   "metadata": {},
   "outputs": [],
   "source": [
    "sess = tf.Session()"
   ]
  },
  {
   "cell_type": "code",
   "execution_count": 3,
   "metadata": {},
   "outputs": [],
   "source": [
    "batch_size = 20"
   ]
  },
  {
   "cell_type": "code",
   "execution_count": 5,
   "metadata": {},
   "outputs": [],
   "source": [
    "x_vals = np.random.normal(1, 0.1, 100)\n",
    "y_vals = np.repeat(10.0, 100)\n",
    "x_data = tf.placeholder(shape = [None, 1], dtype = tf.float32)\n",
    "y_target = tf.placeholder(shape = [None, 1], dtype = tf.float32)\n",
    "A = tf.Variable(tf.random_normal(shape = [1, 1]))"
   ]
  },
  {
   "cell_type": "code",
   "execution_count": 8,
   "metadata": {},
   "outputs": [],
   "source": [
    "my_output = tf.matmul(x_data, A)"
   ]
  },
  {
   "cell_type": "code",
   "execution_count": 9,
   "metadata": {},
   "outputs": [],
   "source": [
    "loss = tf.reduce_mean(tf.square(my_output - y_target))"
   ]
  },
  {
   "cell_type": "code",
   "execution_count": 10,
   "metadata": {},
   "outputs": [],
   "source": [
    "my_opt = tf.train.GradientDescentOptimizer(0.02)"
   ]
  },
  {
   "cell_type": "code",
   "execution_count": 11,
   "metadata": {},
   "outputs": [],
   "source": [
    "train_step = my_opt.minimize(loss)"
   ]
  },
  {
   "cell_type": "code",
   "execution_count": 12,
   "metadata": {},
   "outputs": [],
   "source": [
    "loss_batch = []"
   ]
  },
  {
   "cell_type": "code",
   "execution_count": 15,
   "metadata": {},
   "outputs": [
    {
     "name": "stdout",
     "output_type": "stream",
     "text": [
      "Step #5 A = [[1.2459223]]\n",
      "Loss = 77.58299\n",
      "Step #10 A = [[2.8473895]]\n",
      "Loss = 52.18415\n",
      "Step #15 A = [[4.147904]]\n",
      "Loss = 36.62486\n",
      "Step #20 A = [[5.216035]]\n",
      "Loss = 24.534424\n",
      "Step #25 A = [[6.0888405]]\n",
      "Loss = 14.820622\n",
      "Step #30 A = [[6.802532]]\n",
      "Loss = 10.564884\n",
      "Step #35 A = [[7.383723]]\n",
      "Loss = 7.4071693\n",
      "Step #40 A = [[7.8698826]]\n",
      "Loss = 6.1661367\n",
      "Step #45 A = [[8.253357]]\n",
      "Loss = 3.8911998\n",
      "Step #50 A = [[8.601465]]\n",
      "Loss = 4.250725\n",
      "Step #55 A = [[8.863111]]\n",
      "Loss = 2.833535\n",
      "Step #60 A = [[9.081643]]\n",
      "Loss = 1.5462203\n",
      "Step #65 A = [[9.248429]]\n",
      "Loss = 1.4217094\n",
      "Step #70 A = [[9.399732]]\n",
      "Loss = 1.5887499\n",
      "Step #75 A = [[9.527844]]\n",
      "Loss = 1.0108011\n",
      "Step #80 A = [[9.625449]]\n",
      "Loss = 1.2225544\n",
      "Step #85 A = [[9.721054]]\n",
      "Loss = 1.5095711\n",
      "Step #90 A = [[9.777963]]\n",
      "Loss = 1.2216623\n",
      "Step #95 A = [[9.805102]]\n",
      "Loss = 0.93215275\n",
      "Step #100 A = [[9.867681]]\n",
      "Loss = 1.6782433\n"
     ]
    }
   ],
   "source": [
    "init = tf.global_variables_initializer()\n",
    "sess.run(init)\n",
    "for i in range(100):\n",
    "    rand_index = np.random.choice(100, size = batch_size)\n",
    "    rand_x = np.transpose([x_vals[rand_index]])\n",
    "    rand_y = np.transpose([y_vals[rand_index]])\n",
    "    sess.run(train_step, feed_dict = {x_data : rand_x, y_target : rand_y})\n",
    "    if (i + 1) % 25 == 0:\n",
    "        print('Step #' + str(i + 1) + ' A = ' + str(sess.run(A)))\n",
    "        temp_loss = sess.run(loss, feed_dict = {x_data:rand_x, y_target:rand_y})\n",
    "        print('Loss = ' + str(temp_loss))\n",
    "        loss_batch.append(temp_loss)"
   ]
  },
  {
   "cell_type": "code",
   "execution_count": 19,
   "metadata": {},
   "outputs": [],
   "source": [
    "import matplotlib.pyplot as plt"
   ]
  },
  {
   "cell_type": "code",
   "execution_count": 21,
   "metadata": {},
   "outputs": [
    {
     "data": {
      "text/plain": [
       "[<matplotlib.lines.Line2D at 0x20557833d68>]"
      ]
     },
     "execution_count": 21,
     "metadata": {},
     "output_type": "execute_result"
    },
    {
     "data": {
      "image/png": "[encoded data removed]",
      "text/plain": [
       "<Figure size 432x288 with 1 Axes>"
      ]
     },
     "metadata": {},
     "output_type": "display_data"
    }
   ],
   "source": [
    "plt.plot(range(len(loss_batch)), loss_batch)"
   ]
  },
  {
   "cell_type": "code",
   "execution_count": null,
   "metadata": {},
   "outputs": [],
   "source": []
  }
 ],
 "metadata": {
  "kernelspec": {
   "display_name": "Python 3",
   "language": "python",
   "name": "python3"
  },
  "language_info": {
   "codemirror_mode": {
    "name": "ipython",
    "version": 3
   },
   "file_extension": ".py",
   "mimetype": "text/x-python",
   "name": "python",
   "nbconvert_exporter": "python",
   "pygments_lexer": "ipython3",
   "version": "3.6.3"
  }
 },
 "nbformat": 4,
 "nbformat_minor": 2
}
