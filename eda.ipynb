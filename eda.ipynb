{
 "cells": [
  {
   "cell_type": "code",
   "execution_count": 1,
   "id": "3bcac185",
   "metadata": {},
   "outputs": [],
   "source": [
    "import re\n",
    "import os\n",
    "import pandas as pd\n",
    "import numpy as np\n",
    "import string\n",
    "import matplotlib.pyplot as plt\n",
    "from sklearn import metrics\n",
    "import jieba\n",
    "from collections import Counter, defaultdict\n",
    "from sklearn.feature_extraction.text import TfidfVectorizer, CountVectorizer"
   ]
  },
  {
   "cell_type": "code",
   "execution_count": 2,
   "id": "8fd981e3",
   "metadata": {},
   "outputs": [],
   "source": [
    "# 中文字符显示\n",
    "plt.rcParams['font.sans-serif']=['SimHei'] \n",
    "plt.rcParams['axes.unicode_minus']=False "
   ]
  },
  {
   "cell_type": "code",
   "execution_count": 3,
   "id": "ffb1888f",
   "metadata": {},
   "outputs": [],
   "source": [
    "def load_dataset(fname):\n",
    "    x = []\n",
    "    y = []\n",
    "    with open(fname, 'r', encoding='utf8') as f:\n",
    "        for line in f:\n",
    "            line = line.strip()\n",
    "            label, content = line.split(maxsplit=1)\n",
    "            x.append(content)\n",
    "            y.append(label)\n",
    "    return pd.DataFrame({\n",
    "        'content': x,\n",
    "        'label': y\n",
    "    })"
   ]
  },
  {
   "cell_type": "code",
   "execution_count": 4,
   "id": "fb6f0890",
   "metadata": {},
   "outputs": [],
   "source": [
    "train = load_dataset('./data/cnews.train.txt')"
   ]
  },
  {
   "cell_type": "code",
   "execution_count": 5,
   "id": "abe5efd4",
   "metadata": {},
   "outputs": [],
   "source": [
    "test = load_dataset('./data/cnews.test.txt')"
   ]
  },
  {
   "cell_type": "code",
   "execution_count": 6,
   "id": "832652af",
   "metadata": {},
   "outputs": [
    {
     "data": {
      "text/html": [
       "<div>\n",
       "<style scoped>\n",
       "    .dataframe tbody tr th:only-of-type {\n",
       "        vertical-align: middle;\n",
       "    }\n",
       "\n",
       "    .dataframe tbody tr th {\n",
       "        vertical-align: top;\n",
       "    }\n",
       "\n",
       "    .dataframe thead th {\n",
       "        text-align: right;\n",
       "    }\n",
       "</style>\n",
       "<table border=\"1\" class=\"dataframe\">\n",
       "  <thead>\n",
       "    <tr style=\"text-align: right;\">\n",
       "      <th></th>\n",
       "      <th>content</th>\n",
       "      <th>label</th>\n",
       "    </tr>\n",
       "  </thead>\n",
       "  <tbody>\n",
       "    <tr>\n",
       "      <th>0</th>\n",
       "      <td>马晓旭意外受伤让国奥警惕 无奈大雨格外青睐殷家军记者傅亚雨沈阳报道 来到沈阳，国奥队依然没有...</td>\n",
       "      <td>体育</td>\n",
       "    </tr>\n",
       "    <tr>\n",
       "      <th>1</th>\n",
       "      <td>商瑞华首战复仇心切 中国玫瑰要用美国方式攻克瑞典多曼来了，瑞典来了，商瑞华首战求3分的信心也...</td>\n",
       "      <td>体育</td>\n",
       "    </tr>\n",
       "    <tr>\n",
       "      <th>2</th>\n",
       "      <td>冠军球队迎新欢乐派对 黄旭获大奖张军赢下PK赛新浪体育讯12月27日晚，“冠军高尔夫球队迎新...</td>\n",
       "      <td>体育</td>\n",
       "    </tr>\n",
       "    <tr>\n",
       "      <th>3</th>\n",
       "      <td>辽足签约危机引注册难关 高层威逼利诱合同笑里藏刀新浪体育讯2月24日，辽足爆发了集体拒签风波...</td>\n",
       "      <td>体育</td>\n",
       "    </tr>\n",
       "    <tr>\n",
       "      <th>4</th>\n",
       "      <td>揭秘谢亚龙被带走：总局电话骗局 复制南杨轨迹体坛周报特约记者张锐北京报道  谢亚龙已经被公安...</td>\n",
       "      <td>体育</td>\n",
       "    </tr>\n",
       "    <tr>\n",
       "      <th>...</th>\n",
       "      <td>...</td>\n",
       "      <td>...</td>\n",
       "    </tr>\n",
       "    <tr>\n",
       "      <th>49995</th>\n",
       "      <td>打好投资的决胜局□国泰基金 阿邰就长期而言，资产配置占投资成功与否的决定因素高达90%以上。...</td>\n",
       "      <td>财经</td>\n",
       "    </tr>\n",
       "    <tr>\n",
       "      <th>49996</th>\n",
       "      <td>昔明星基金今年首月负收益 QDII成今年胸闷基金□晨报记者 陈重博2009年以来，所有偏股型...</td>\n",
       "      <td>财经</td>\n",
       "    </tr>\n",
       "    <tr>\n",
       "      <th>49997</th>\n",
       "      <td>沪基指全周大涨8.25% 创两个月最大周涨幅全景网2月6日讯 受到A股市场牛年高歌猛进影响，...</td>\n",
       "      <td>财经</td>\n",
       "    </tr>\n",
       "    <tr>\n",
       "      <th>49998</th>\n",
       "      <td>沪基指半日涨2.01% 两市封基近乎全线上扬全景网2月6日讯 沪深基金指数周五早盘大幅收高，...</td>\n",
       "      <td>财经</td>\n",
       "    </tr>\n",
       "    <tr>\n",
       "      <th>49999</th>\n",
       "      <td>牛年第一月 开基抬头券商集合理财掉队每经记者 于春敏在金融危机的淫威之下，2008年，全球资...</td>\n",
       "      <td>财经</td>\n",
       "    </tr>\n",
       "  </tbody>\n",
       "</table>\n",
       "<p>50000 rows × 2 columns</p>\n",
       "</div>"
      ],
      "text/plain": [
       "                                                 content label\n",
       "0      马晓旭意外受伤让国奥警惕 无奈大雨格外青睐殷家军记者傅亚雨沈阳报道 来到沈阳，国奥队依然没有...    体育\n",
       "1      商瑞华首战复仇心切 中国玫瑰要用美国方式攻克瑞典多曼来了，瑞典来了，商瑞华首战求3分的信心也...    体育\n",
       "2      冠军球队迎新欢乐派对 黄旭获大奖张军赢下PK赛新浪体育讯12月27日晚，“冠军高尔夫球队迎新...    体育\n",
       "3      辽足签约危机引注册难关 高层威逼利诱合同笑里藏刀新浪体育讯2月24日，辽足爆发了集体拒签风波...    体育\n",
       "4      揭秘谢亚龙被带走：总局电话骗局 复制南杨轨迹体坛周报特约记者张锐北京报道  谢亚龙已经被公安...    体育\n",
       "...                                                  ...   ...\n",
       "49995  打好投资的决胜局□国泰基金 阿邰就长期而言，资产配置占投资成功与否的决定因素高达90%以上。...    财经\n",
       "49996  昔明星基金今年首月负收益 QDII成今年胸闷基金□晨报记者 陈重博2009年以来，所有偏股型...    财经\n",
       "49997  沪基指全周大涨8.25% 创两个月最大周涨幅全景网2月6日讯 受到A股市场牛年高歌猛进影响，...    财经\n",
       "49998  沪基指半日涨2.01% 两市封基近乎全线上扬全景网2月6日讯 沪深基金指数周五早盘大幅收高，...    财经\n",
       "49999  牛年第一月 开基抬头券商集合理财掉队每经记者 于春敏在金融危机的淫威之下，2008年，全球资...    财经\n",
       "\n",
       "[50000 rows x 2 columns]"
      ]
     },
     "execution_count": 6,
     "metadata": {},
     "output_type": "execute_result"
    }
   ],
   "source": [
    "train"
   ]
  },
  {
   "cell_type": "code",
   "execution_count": 7,
   "id": "d093daf4",
   "metadata": {},
   "outputs": [
    {
     "data": {
      "text/plain": [
       "(50000, 2)"
      ]
     },
     "execution_count": 7,
     "metadata": {},
     "output_type": "execute_result"
    }
   ],
   "source": [
    "train.shape"
   ]
  },
  {
   "cell_type": "code",
   "execution_count": 8,
   "id": "26bdce46",
   "metadata": {},
   "outputs": [
    {
     "data": {
      "text/plain": [
       "体育    5000\n",
       "娱乐    5000\n",
       "家居    5000\n",
       "房产    5000\n",
       "教育    5000\n",
       "时尚    5000\n",
       "时政    5000\n",
       "游戏    5000\n",
       "科技    5000\n",
       "财经    5000\n",
       "Name: label, dtype: int64"
      ]
     },
     "execution_count": 8,
     "metadata": {},
     "output_type": "execute_result"
    }
   ],
   "source": [
    "train['label'].value_counts()"
   ]
  },
  {
   "cell_type": "code",
   "execution_count": 9,
   "id": "82e9099e",
   "metadata": {},
   "outputs": [
    {
     "data": {
      "text/html": [
       "<div>\n",
       "<style scoped>\n",
       "    .dataframe tbody tr th:only-of-type {\n",
       "        vertical-align: middle;\n",
       "    }\n",
       "\n",
       "    .dataframe tbody tr th {\n",
       "        vertical-align: top;\n",
       "    }\n",
       "\n",
       "    .dataframe thead th {\n",
       "        text-align: right;\n",
       "    }\n",
       "</style>\n",
       "<table border=\"1\" class=\"dataframe\">\n",
       "  <thead>\n",
       "    <tr style=\"text-align: right;\">\n",
       "      <th></th>\n",
       "      <th>content</th>\n",
       "      <th>label</th>\n",
       "    </tr>\n",
       "  </thead>\n",
       "  <tbody>\n",
       "    <tr>\n",
       "      <th>0</th>\n",
       "      <td>鲍勃库西奖归谁属？ NCAA最强控卫是坎巴还是弗神新浪体育讯如今，本赛季的NCAA进入到了末...</td>\n",
       "      <td>体育</td>\n",
       "    </tr>\n",
       "    <tr>\n",
       "      <th>1</th>\n",
       "      <td>麦基砍28+18+5却充满寂寞 纪录之夜他的痛阿联最懂新浪体育讯上天对每个人都是公平的，贾维...</td>\n",
       "      <td>体育</td>\n",
       "    </tr>\n",
       "    <tr>\n",
       "      <th>2</th>\n",
       "      <td>黄蜂vs湖人首发：科比冲击七连胜 火箭两旧将登场新浪体育讯北京时间3月28日，NBA常规赛洛...</td>\n",
       "      <td>体育</td>\n",
       "    </tr>\n",
       "    <tr>\n",
       "      <th>3</th>\n",
       "      <td>双面谢亚龙作秀终成做作 谁来为低劣行政能力埋单是谁任命了谢亚龙？谁放纵了谢亚龙？谁又该为谢亚...</td>\n",
       "      <td>体育</td>\n",
       "    </tr>\n",
       "    <tr>\n",
       "      <th>4</th>\n",
       "      <td>兔年首战山西换帅后有虎胆 张学文用乔丹名言励志今晚客场挑战浙江稠州银行队，是山西汾酒男篮的兔...</td>\n",
       "      <td>体育</td>\n",
       "    </tr>\n",
       "    <tr>\n",
       "      <th>...</th>\n",
       "      <td>...</td>\n",
       "      <td>...</td>\n",
       "    </tr>\n",
       "    <tr>\n",
       "      <th>9995</th>\n",
       "      <td>近期18只偏股基金成立 将为股市新增300亿资金兴业有机增长混合基金23日发布公告称，基金募...</td>\n",
       "      <td>财经</td>\n",
       "    </tr>\n",
       "    <tr>\n",
       "      <th>9996</th>\n",
       "      <td>银华基金杨靖聊政策性主题投资机会实录新浪财经讯 银华和谐主题基金拟任基金经理助理杨靖于3月2...</td>\n",
       "      <td>财经</td>\n",
       "    </tr>\n",
       "    <tr>\n",
       "      <th>9997</th>\n",
       "      <td>首只基金投资信心指数问世本报讯 (记者吴敏)昨日，嘉实基金宣布推出“嘉实中国基金投资者信心指...</td>\n",
       "      <td>财经</td>\n",
       "    </tr>\n",
       "    <tr>\n",
       "      <th>9998</th>\n",
       "      <td>17只阳光私募3月份火速成立证券时报记者 方 丽本报讯 阳光私募产品迎来了发行高潮。WIND...</td>\n",
       "      <td>财经</td>\n",
       "    </tr>\n",
       "    <tr>\n",
       "      <th>9999</th>\n",
       "      <td>25日股票基金全线受挫 九成半基金跌逾1%全景网3月26日讯 周三开放式基金净值普降，股票型...</td>\n",
       "      <td>财经</td>\n",
       "    </tr>\n",
       "  </tbody>\n",
       "</table>\n",
       "<p>10000 rows × 2 columns</p>\n",
       "</div>"
      ],
      "text/plain": [
       "                                                content label\n",
       "0     鲍勃库西奖归谁属？ NCAA最强控卫是坎巴还是弗神新浪体育讯如今，本赛季的NCAA进入到了末...    体育\n",
       "1     麦基砍28+18+5却充满寂寞 纪录之夜他的痛阿联最懂新浪体育讯上天对每个人都是公平的，贾维...    体育\n",
       "2     黄蜂vs湖人首发：科比冲击七连胜 火箭两旧将登场新浪体育讯北京时间3月28日，NBA常规赛洛...    体育\n",
       "3     双面谢亚龙作秀终成做作 谁来为低劣行政能力埋单是谁任命了谢亚龙？谁放纵了谢亚龙？谁又该为谢亚...    体育\n",
       "4     兔年首战山西换帅后有虎胆 张学文用乔丹名言励志今晚客场挑战浙江稠州银行队，是山西汾酒男篮的兔...    体育\n",
       "...                                                 ...   ...\n",
       "9995  近期18只偏股基金成立 将为股市新增300亿资金兴业有机增长混合基金23日发布公告称，基金募...    财经\n",
       "9996  银华基金杨靖聊政策性主题投资机会实录新浪财经讯 银华和谐主题基金拟任基金经理助理杨靖于3月2...    财经\n",
       "9997  首只基金投资信心指数问世本报讯 (记者吴敏)昨日，嘉实基金宣布推出“嘉实中国基金投资者信心指...    财经\n",
       "9998  17只阳光私募3月份火速成立证券时报记者 方 丽本报讯 阳光私募产品迎来了发行高潮。WIND...    财经\n",
       "9999  25日股票基金全线受挫 九成半基金跌逾1%全景网3月26日讯 周三开放式基金净值普降，股票型...    财经\n",
       "\n",
       "[10000 rows x 2 columns]"
      ]
     },
     "execution_count": 9,
     "metadata": {},
     "output_type": "execute_result"
    }
   ],
   "source": [
    "test"
   ]
  },
  {
   "cell_type": "code",
   "execution_count": 10,
   "id": "f8f4c54e",
   "metadata": {},
   "outputs": [],
   "source": [
    "with open('./data/stop_words_zh.txt', 'r', encoding='utf8') as f:\n",
    "    stopwords = set(f.read().splitlines())"
   ]
  },
  {
   "cell_type": "code",
   "execution_count": 11,
   "id": "f24cef15",
   "metadata": {},
   "outputs": [],
   "source": [
    "punctuation = string.punctuation + \"\"\"！？｡＂＃＄％＆＇（）＊＋，－／：；。＜＝＞＠［＼］＾＿｀｛｜｝～｟｠｢｣､、〃》「」『』【】〔〕〖〗〘〙〚〛〜〝〞〟〰〾〿–—‘'‛“”„‟…‧﹏.\"\"\""
   ]
  },
  {
   "cell_type": "code",
   "execution_count": 14,
   "id": "29835354",
   "metadata": {},
   "outputs": [
    {
     "data": {
      "text/plain": [
       "'马晓旭意外受伤让国奥警惕 无奈大雨格外青睐殷家军记者傅亚雨沈阳报道 来到沈阳，国奥队依然没有摆脱雨水的困扰。7月31日下午6点，国奥队的日常训练再度受到大雨的干扰，无奈之下队员们只慢跑了25分钟就草草收场。31日上午10点，国奥队在奥体中心外场训练的时候，天就是阴沉沉的，气象预报显示当天下午沈阳就有大雨，但幸好队伍上午的训练并没有受到任何干扰。下午6点，当球队抵达训练场时，大雨已经下了几个小时，而且丝毫没有停下来的意思。抱着试一试的态度，球队开始了当天下午的例行训练，25分钟过去了，天气没有任何转好的迹象，为了保护球员们，国奥队决定中止当天的训练，全队立即返回酒店。在雨中训练对足球队来说并不是什么稀罕事，但在奥运会即将开始之前，全队变得“娇贵”了。在沈阳最后一周的训练，国奥队首先要保证现有的球员不再出现意外的伤病情况以免影响正式比赛，因此这一阶段控制训练受伤、控制感冒等疾病的出现被队伍放在了相当重要的位置。而抵达沈阳之后，中后卫冯萧霆就一直没有训练，冯萧霆是7月27日在长春患上了感冒，因此也没有参加29日跟塞尔维亚的热身赛。队伍介绍说，冯萧霆并没有出现发烧症状，但为了安全起见，这两天还是让他静养休息，等感冒彻底好了之后再恢复训练。由于有了冯萧霆这个例子，因此国奥队对雨中训练就显得特别谨慎，主要是担心球员们受凉而引发感冒，造成非战斗减员。而女足队员马晓旭在热身赛中受伤导致无缘奥运的前科，也让在沈阳的国奥队现在格外警惕，“训练中不断嘱咐队员们要注意动作，我们可不能再出这样的事情了。”一位工作人员表示。从长春到沈阳，雨水一路伴随着国奥队，“也邪了，我们走到哪儿雨就下到哪儿，在长春几次训练都被大雨给搅和了，没想到来沈阳又碰到这种事情。”一位国奥球员也对雨水的“青睐”有些不解。'"
      ]
     },
     "execution_count": 14,
     "metadata": {},
     "output_type": "execute_result"
    }
   ],
   "source": [
    "content = train.content.iloc[0]\n",
    "content"
   ]
  },
  {
   "cell_type": "code",
   "execution_count": 15,
   "id": "c7be1e8d",
   "metadata": {},
   "outputs": [
    {
     "data": {
      "text/plain": [
       "'马晓旭意外受伤让国奥警惕 无奈大雨格外青睐殷家军记者傅亚雨沈阳报道 来到沈阳 国奥队依然没有摆脱雨水的困扰 7月31日下午6点 国奥队的日常训练再度受到大雨的干扰 无奈之下队员们只慢跑了25分钟就草草收场 31日上午10点 国奥队在奥体中心外场训练的时候 天就是阴沉沉的 气象预报显示当天下午沈阳就有大雨 但幸好队伍上午的训练并没有受到任何干扰 下午6点 当球队抵达训练场时 大雨已经下了几个小时 而且丝毫没有停下来的意思 抱着试一试的态度 球队开始了当天下午的例行训练 25分钟过去了 天气没有任何转好的迹象 为了保护球员们 国奥队决定中止当天的训练 全队立即返回酒店 在雨中训练对足球队来说并不是什么稀罕事 但在奥运会即将开始之前 全队变得 娇贵 了 在沈阳最后一周的训练 国奥队首先要保证现有的球员不再出现意外的伤病情况以免影响正式比赛 因此这一阶段控制训练受伤 控制感冒等疾病的出现被队伍放在了相当重要的位置 而抵达沈阳之后 中后卫冯萧霆就一直没有训练 冯萧霆是7月27日在长春患上了感冒 因此也没有参加29日跟塞尔维亚的热身赛 队伍介绍说 冯萧霆并没有出现发烧症状 但为了安全起见 这两天还是让他静养休息 等感冒彻底好了之后再恢复训练 由于有了冯萧霆这个例子 因此国奥队对雨中训练就显得特别谨慎 主要是担心球员们受凉而引发感冒 造成非战斗减员 而女足队员马晓旭在热身赛中受伤导致无缘奥运的前科 也让在沈阳的国奥队现在格外警惕  训练中不断嘱咐队员们要注意动作 我们可不能再出这样的事情了  一位工作人员表示 从长春到沈阳 雨水一路伴随着国奥队  也邪了 我们走到哪儿雨就下到哪儿 在长春几次训练都被大雨给搅和了 没想到来沈阳又碰到这种事情  一位国奥球员也对雨水的 青睐 有些不解 '"
      ]
     },
     "execution_count": 15,
     "metadata": {},
     "output_type": "execute_result"
    }
   ],
   "source": [
    "re.sub(r'[{}]'.format(punctuation), ' ', content)"
   ]
  },
  {
   "cell_type": "code",
   "execution_count": 16,
   "id": "7d941b2e",
   "metadata": {},
   "outputs": [],
   "source": [
    "def clean_txt(txt):\n",
    "    tokens = list(jieba.cut(txt))\n",
    "    tokens = [token for token in tokens if token.strip() and token not in stopwords]\n",
    "    return tokens"
   ]
  },
  {
   "cell_type": "code",
   "execution_count": 17,
   "id": "e033a5cc",
   "metadata": {},
   "outputs": [
    {
     "name": "stderr",
     "output_type": "stream",
     "text": [
      "Building prefix dict from the default dictionary ...\n",
      "Loading model from cache C:\\Users\\hp\\AppData\\Local\\Temp\\jieba.cache\n",
      "Loading model cost 1.635 seconds.\n",
      "Prefix dict has been built successfully.\n"
     ]
    }
   ],
   "source": [
    "train['tokens'] = train['content'].apply(clean_txt)\n",
    "test['tokens'] = test['content'].apply(clean_txt)"
   ]
  },
  {
   "cell_type": "code",
   "execution_count": 18,
   "id": "b62c6f3a",
   "metadata": {},
   "outputs": [],
   "source": [
    "train.to_csv('./cache/train.csv')\n",
    "test.to_csv('./cache/test.csv')"
   ]
  },
  {
   "cell_type": "code",
   "execution_count": 19,
   "id": "50f748da",
   "metadata": {},
   "outputs": [
    {
     "data": {
      "text/html": [
       "<div>\n",
       "<style scoped>\n",
       "    .dataframe tbody tr th:only-of-type {\n",
       "        vertical-align: middle;\n",
       "    }\n",
       "\n",
       "    .dataframe tbody tr th {\n",
       "        vertical-align: top;\n",
       "    }\n",
       "\n",
       "    .dataframe thead th {\n",
       "        text-align: right;\n",
       "    }\n",
       "</style>\n",
       "<table border=\"1\" class=\"dataframe\">\n",
       "  <thead>\n",
       "    <tr style=\"text-align: right;\">\n",
       "      <th></th>\n",
       "      <th>content</th>\n",
       "      <th>label</th>\n",
       "      <th>tokens</th>\n",
       "    </tr>\n",
       "  </thead>\n",
       "  <tbody>\n",
       "    <tr>\n",
       "      <th>0</th>\n",
       "      <td>马晓旭意外受伤让国奥警惕 无奈大雨格外青睐殷家军记者傅亚雨沈阳报道 来到沈阳，国奥队依然没有...</td>\n",
       "      <td>体育</td>\n",
       "      <td>[马晓旭, 意外, 受伤, 国奥, 警惕, 无奈, 大雨, 格外, 青睐, 殷家, 军, 记...</td>\n",
       "    </tr>\n",
       "    <tr>\n",
       "      <th>1</th>\n",
       "      <td>商瑞华首战复仇心切 中国玫瑰要用美国方式攻克瑞典多曼来了，瑞典来了，商瑞华首战求3分的信心也...</td>\n",
       "      <td>体育</td>\n",
       "      <td>[商瑞华, 首战, 复仇, 心切, 中国, 玫瑰, 美国, 方式, 攻克, 瑞典, 多曼来,...</td>\n",
       "    </tr>\n",
       "    <tr>\n",
       "      <th>2</th>\n",
       "      <td>冠军球队迎新欢乐派对 黄旭获大奖张军赢下PK赛新浪体育讯12月27日晚，“冠军高尔夫球队迎新...</td>\n",
       "      <td>体育</td>\n",
       "      <td>[冠军, 球队, 迎新, 欢乐, 派对, 黄旭获, 大奖, 张军, 赢, 下, PK, 赛,...</td>\n",
       "    </tr>\n",
       "    <tr>\n",
       "      <th>3</th>\n",
       "      <td>辽足签约危机引注册难关 高层威逼利诱合同笑里藏刀新浪体育讯2月24日，辽足爆发了集体拒签风波...</td>\n",
       "      <td>体育</td>\n",
       "      <td>[辽足, 签约, 危机, 引, 注册, 难关, 高层, 威逼利诱, 合同, 笑里藏刀, 新浪...</td>\n",
       "    </tr>\n",
       "    <tr>\n",
       "      <th>4</th>\n",
       "      <td>揭秘谢亚龙被带走：总局电话骗局 复制南杨轨迹体坛周报特约记者张锐北京报道  谢亚龙已经被公安...</td>\n",
       "      <td>体育</td>\n",
       "      <td>[揭秘, 谢亚龙, 带走, 总局, 电话, 骗局, 复制, 南杨, 轨迹, 体坛周报, 特约...</td>\n",
       "    </tr>\n",
       "    <tr>\n",
       "      <th>...</th>\n",
       "      <td>...</td>\n",
       "      <td>...</td>\n",
       "      <td>...</td>\n",
       "    </tr>\n",
       "    <tr>\n",
       "      <th>49995</th>\n",
       "      <td>打好投资的决胜局□国泰基金 阿邰就长期而言，资产配置占投资成功与否的决定因素高达90%以上。...</td>\n",
       "      <td>财经</td>\n",
       "      <td>[好, 投资, 决胜局, □, 国泰, 基金, 邰, 长期, 资产, 配置, 占, 投资, ...</td>\n",
       "    </tr>\n",
       "    <tr>\n",
       "      <th>49996</th>\n",
       "      <td>昔明星基金今年首月负收益 QDII成今年胸闷基金□晨报记者 陈重博2009年以来，所有偏股型...</td>\n",
       "      <td>财经</td>\n",
       "      <td>[昔, 明星, 基金, 今年, 首月, 负, 收益, QDII, 成, 今年, 胸闷, 基金...</td>\n",
       "    </tr>\n",
       "    <tr>\n",
       "      <th>49997</th>\n",
       "      <td>沪基指全周大涨8.25% 创两个月最大周涨幅全景网2月6日讯 受到A股市场牛年高歌猛进影响，...</td>\n",
       "      <td>财经</td>\n",
       "      <td>[沪, 基指全, 周大涨, 8.25%, 创, 两个, 月, 最大, 周, 涨幅, 全景网,...</td>\n",
       "    </tr>\n",
       "    <tr>\n",
       "      <th>49998</th>\n",
       "      <td>沪基指半日涨2.01% 两市封基近乎全线上扬全景网2月6日讯 沪深基金指数周五早盘大幅收高，...</td>\n",
       "      <td>财经</td>\n",
       "      <td>[沪, 基指, 半日, 涨, 2.01%, 两市, 封基, 近乎, 全线, 上扬, 全景网,...</td>\n",
       "    </tr>\n",
       "    <tr>\n",
       "      <th>49999</th>\n",
       "      <td>牛年第一月 开基抬头券商集合理财掉队每经记者 于春敏在金融危机的淫威之下，2008年，全球资...</td>\n",
       "      <td>财经</td>\n",
       "      <td>[牛, 年, 第一, 月, 开基, 抬头, 券商, 集合, 理财, 掉队, 每经, 记者, ...</td>\n",
       "    </tr>\n",
       "  </tbody>\n",
       "</table>\n",
       "<p>50000 rows × 3 columns</p>\n",
       "</div>"
      ],
      "text/plain": [
       "                                                 content label  \\\n",
       "0      马晓旭意外受伤让国奥警惕 无奈大雨格外青睐殷家军记者傅亚雨沈阳报道 来到沈阳，国奥队依然没有...    体育   \n",
       "1      商瑞华首战复仇心切 中国玫瑰要用美国方式攻克瑞典多曼来了，瑞典来了，商瑞华首战求3分的信心也...    体育   \n",
       "2      冠军球队迎新欢乐派对 黄旭获大奖张军赢下PK赛新浪体育讯12月27日晚，“冠军高尔夫球队迎新...    体育   \n",
       "3      辽足签约危机引注册难关 高层威逼利诱合同笑里藏刀新浪体育讯2月24日，辽足爆发了集体拒签风波...    体育   \n",
       "4      揭秘谢亚龙被带走：总局电话骗局 复制南杨轨迹体坛周报特约记者张锐北京报道  谢亚龙已经被公安...    体育   \n",
       "...                                                  ...   ...   \n",
       "49995  打好投资的决胜局□国泰基金 阿邰就长期而言，资产配置占投资成功与否的决定因素高达90%以上。...    财经   \n",
       "49996  昔明星基金今年首月负收益 QDII成今年胸闷基金□晨报记者 陈重博2009年以来，所有偏股型...    财经   \n",
       "49997  沪基指全周大涨8.25% 创两个月最大周涨幅全景网2月6日讯 受到A股市场牛年高歌猛进影响，...    财经   \n",
       "49998  沪基指半日涨2.01% 两市封基近乎全线上扬全景网2月6日讯 沪深基金指数周五早盘大幅收高，...    财经   \n",
       "49999  牛年第一月 开基抬头券商集合理财掉队每经记者 于春敏在金融危机的淫威之下，2008年，全球资...    财经   \n",
       "\n",
       "                                                  tokens  \n",
       "0      [马晓旭, 意外, 受伤, 国奥, 警惕, 无奈, 大雨, 格外, 青睐, 殷家, 军, 记...  \n",
       "1      [商瑞华, 首战, 复仇, 心切, 中国, 玫瑰, 美国, 方式, 攻克, 瑞典, 多曼来,...  \n",
       "2      [冠军, 球队, 迎新, 欢乐, 派对, 黄旭获, 大奖, 张军, 赢, 下, PK, 赛,...  \n",
       "3      [辽足, 签约, 危机, 引, 注册, 难关, 高层, 威逼利诱, 合同, 笑里藏刀, 新浪...  \n",
       "4      [揭秘, 谢亚龙, 带走, 总局, 电话, 骗局, 复制, 南杨, 轨迹, 体坛周报, 特约...  \n",
       "...                                                  ...  \n",
       "49995  [好, 投资, 决胜局, □, 国泰, 基金, 邰, 长期, 资产, 配置, 占, 投资, ...  \n",
       "49996  [昔, 明星, 基金, 今年, 首月, 负, 收益, QDII, 成, 今年, 胸闷, 基金...  \n",
       "49997  [沪, 基指全, 周大涨, 8.25%, 创, 两个, 月, 最大, 周, 涨幅, 全景网,...  \n",
       "49998  [沪, 基指, 半日, 涨, 2.01%, 两市, 封基, 近乎, 全线, 上扬, 全景网,...  \n",
       "49999  [牛, 年, 第一, 月, 开基, 抬头, 券商, 集合, 理财, 掉队, 每经, 记者, ...  \n",
       "\n",
       "[50000 rows x 3 columns]"
      ]
     },
     "execution_count": 19,
     "metadata": {},
     "output_type": "execute_result"
    }
   ],
   "source": [
    "train"
   ]
  },
  {
   "cell_type": "code",
   "execution_count": 20,
   "id": "c7b17eaf",
   "metadata": {},
   "outputs": [
    {
     "data": {
      "text/html": [
       "<div>\n",
       "<style scoped>\n",
       "    .dataframe tbody tr th:only-of-type {\n",
       "        vertical-align: middle;\n",
       "    }\n",
       "\n",
       "    .dataframe tbody tr th {\n",
       "        vertical-align: top;\n",
       "    }\n",
       "\n",
       "    .dataframe thead th {\n",
       "        text-align: right;\n",
       "    }\n",
       "</style>\n",
       "<table border=\"1\" class=\"dataframe\">\n",
       "  <thead>\n",
       "    <tr style=\"text-align: right;\">\n",
       "      <th></th>\n",
       "      <th>content</th>\n",
       "      <th>label</th>\n",
       "      <th>tokens</th>\n",
       "    </tr>\n",
       "  </thead>\n",
       "  <tbody>\n",
       "    <tr>\n",
       "      <th>0</th>\n",
       "      <td>马晓旭意外受伤让国奥警惕 无奈大雨格外青睐殷家军记者傅亚雨沈阳报道 来到沈阳，国奥队依然没有...</td>\n",
       "      <td>体育</td>\n",
       "      <td>[马晓旭, 意外, 受伤, 国奥, 警惕, 无奈, 大雨, 格外, 青睐, 殷家, 军, 记...</td>\n",
       "    </tr>\n",
       "    <tr>\n",
       "      <th>1</th>\n",
       "      <td>商瑞华首战复仇心切 中国玫瑰要用美国方式攻克瑞典多曼来了，瑞典来了，商瑞华首战求3分的信心也...</td>\n",
       "      <td>体育</td>\n",
       "      <td>[商瑞华, 首战, 复仇, 心切, 中国, 玫瑰, 美国, 方式, 攻克, 瑞典, 多曼来,...</td>\n",
       "    </tr>\n",
       "    <tr>\n",
       "      <th>2</th>\n",
       "      <td>冠军球队迎新欢乐派对 黄旭获大奖张军赢下PK赛新浪体育讯12月27日晚，“冠军高尔夫球队迎新...</td>\n",
       "      <td>体育</td>\n",
       "      <td>[冠军, 球队, 迎新, 欢乐, 派对, 黄旭获, 大奖, 张军, 赢, 下, PK, 赛,...</td>\n",
       "    </tr>\n",
       "  </tbody>\n",
       "</table>\n",
       "</div>"
      ],
      "text/plain": [
       "                                             content label  \\\n",
       "0  马晓旭意外受伤让国奥警惕 无奈大雨格外青睐殷家军记者傅亚雨沈阳报道 来到沈阳，国奥队依然没有...    体育   \n",
       "1  商瑞华首战复仇心切 中国玫瑰要用美国方式攻克瑞典多曼来了，瑞典来了，商瑞华首战求3分的信心也...    体育   \n",
       "2  冠军球队迎新欢乐派对 黄旭获大奖张军赢下PK赛新浪体育讯12月27日晚，“冠军高尔夫球队迎新...    体育   \n",
       "\n",
       "                                              tokens  \n",
       "0  [马晓旭, 意外, 受伤, 国奥, 警惕, 无奈, 大雨, 格外, 青睐, 殷家, 军, 记...  \n",
       "1  [商瑞华, 首战, 复仇, 心切, 中国, 玫瑰, 美国, 方式, 攻克, 瑞典, 多曼来,...  \n",
       "2  [冠军, 球队, 迎新, 欢乐, 派对, 黄旭获, 大奖, 张军, 赢, 下, PK, 赛,...  "
      ]
     },
     "execution_count": 20,
     "metadata": {},
     "output_type": "execute_result"
    }
   ],
   "source": [
    "train.head(3)"
   ]
  },
  {
   "cell_type": "code",
   "execution_count": 21,
   "id": "d93e0c4f",
   "metadata": {},
   "outputs": [],
   "source": [
    "# 特征数\n",
    "N = 2048"
   ]
  },
  {
   "cell_type": "code",
   "execution_count": 22,
   "id": "57df1d25",
   "metadata": {},
   "outputs": [],
   "source": [
    "def identity_tokenizer(text):\n",
    "    return text\n",
    "\n",
    "tfidf = TfidfVectorizer(tokenizer=identity_tokenizer, stop_words=None, lowercase=False, max_features=N)    \n",
    "train_features = tfidf.fit_transform(train.tokens).toarray()\n",
    "test_features = tfidf.transform(test.tokens).toarray()"
   ]
  },
  {
   "cell_type": "code",
   "execution_count": 26,
   "id": "2e72b0b2",
   "metadata": {},
   "outputs": [],
   "source": [
    "from sklearn.linear_model import LogisticRegression"
   ]
  },
  {
   "cell_type": "code",
   "execution_count": 24,
   "id": "e7f17060",
   "metadata": {},
   "outputs": [],
   "source": [
    "from sklearn import metrics"
   ]
  },
  {
   "cell_type": "code",
   "execution_count": 27,
   "id": "3fa46a80",
   "metadata": {},
   "outputs": [
    {
     "name": "stderr",
     "output_type": "stream",
     "text": [
      "f:\\python\\python37\\lib\\site-packages\\sklearn\\linear_model\\_logistic.py:818: ConvergenceWarning: lbfgs failed to converge (status=1):\n",
      "STOP: TOTAL NO. of ITERATIONS REACHED LIMIT.\n",
      "\n",
      "Increase the number of iterations (max_iter) or scale the data as shown in:\n",
      "    https://scikit-learn.org/stable/modules/preprocessing.html\n",
      "Please also refer to the documentation for alternative solver options:\n",
      "    https://scikit-learn.org/stable/modules/linear_model.html#logistic-regression\n",
      "  extra_warning_msg=_LOGISTIC_SOLVER_CONVERGENCE_MSG,\n"
     ]
    },
    {
     "data": {
      "text/plain": [
       "LogisticRegression()"
      ]
     },
     "execution_count": 27,
     "metadata": {},
     "output_type": "execute_result"
    }
   ],
   "source": [
    "X_train, y_train = train_features, train.label.values\n",
    "X_test, y_test = test_features, test.label.values\n",
    "\n",
    "model = LogisticRegression()\n",
    "model.fit(X_train, y_train)"
   ]
  },
  {
   "cell_type": "code",
   "execution_count": 28,
   "id": "511d60aa",
   "metadata": {},
   "outputs": [],
   "source": []
  },
  {
   "cell_type": "code",
   "execution_count": 29,
   "id": "2cabc40f",
   "metadata": {},
   "outputs": [
    {
     "name": "stdout",
     "output_type": "stream",
     "text": [
      "              precision    recall  f1-score   support\n",
      "\n",
      "          体育       1.00      1.00      1.00      1000\n",
      "          娱乐       0.98      0.98      0.98      1000\n",
      "          家居       0.96      0.77      0.85      1000\n",
      "          房产       0.89      0.91      0.90      1000\n",
      "          教育       0.95      0.91      0.93      1000\n",
      "          时尚       0.90      0.96      0.93      1000\n",
      "          时政       0.91      0.96      0.93      1000\n",
      "          游戏       0.96      0.97      0.97      1000\n",
      "          科技       0.93      0.97      0.95      1000\n",
      "          财经       0.95      0.99      0.97      1000\n",
      "\n",
      "    accuracy                           0.94     10000\n",
      "   macro avg       0.94      0.94      0.94     10000\n",
      "weighted avg       0.94      0.94      0.94     10000\n",
      "\n"
     ]
    }
   ],
   "source": [
    "y_test_pred = model.predict(X_test)\n",
    "print(metrics.classification_report(y_test, y_test_pred))"
   ]
  },
  {
   "cell_type": "code",
   "execution_count": 30,
   "id": "b121c2e6",
   "metadata": {},
   "outputs": [
    {
     "data": {
      "text/html": [
       "<div>\n",
       "<style scoped>\n",
       "    .dataframe tbody tr th:only-of-type {\n",
       "        vertical-align: middle;\n",
       "    }\n",
       "\n",
       "    .dataframe tbody tr th {\n",
       "        vertical-align: top;\n",
       "    }\n",
       "\n",
       "    .dataframe thead th {\n",
       "        text-align: right;\n",
       "    }\n",
       "</style>\n",
       "<table border=\"1\" class=\"dataframe\">\n",
       "  <thead>\n",
       "    <tr style=\"text-align: right;\">\n",
       "      <th></th>\n",
       "      <th>content</th>\n",
       "      <th>label</th>\n",
       "      <th>tokens</th>\n",
       "    </tr>\n",
       "  </thead>\n",
       "  <tbody>\n",
       "    <tr>\n",
       "      <th>0</th>\n",
       "      <td>马晓旭意外受伤让国奥警惕 无奈大雨格外青睐殷家军记者傅亚雨沈阳报道 来到沈阳，国奥队依然没有...</td>\n",
       "      <td>体育</td>\n",
       "      <td>[马晓旭, 意外, 受伤, 国奥, 警惕, 无奈, 大雨, 格外, 青睐, 殷家, 军, 记...</td>\n",
       "    </tr>\n",
       "    <tr>\n",
       "      <th>1</th>\n",
       "      <td>商瑞华首战复仇心切 中国玫瑰要用美国方式攻克瑞典多曼来了，瑞典来了，商瑞华首战求3分的信心也...</td>\n",
       "      <td>体育</td>\n",
       "      <td>[商瑞华, 首战, 复仇, 心切, 中国, 玫瑰, 美国, 方式, 攻克, 瑞典, 多曼来,...</td>\n",
       "    </tr>\n",
       "    <tr>\n",
       "      <th>2</th>\n",
       "      <td>冠军球队迎新欢乐派对 黄旭获大奖张军赢下PK赛新浪体育讯12月27日晚，“冠军高尔夫球队迎新...</td>\n",
       "      <td>体育</td>\n",
       "      <td>[冠军, 球队, 迎新, 欢乐, 派对, 黄旭获, 大奖, 张军, 赢, 下, PK, 赛,...</td>\n",
       "    </tr>\n",
       "    <tr>\n",
       "      <th>3</th>\n",
       "      <td>辽足签约危机引注册难关 高层威逼利诱合同笑里藏刀新浪体育讯2月24日，辽足爆发了集体拒签风波...</td>\n",
       "      <td>体育</td>\n",
       "      <td>[辽足, 签约, 危机, 引, 注册, 难关, 高层, 威逼利诱, 合同, 笑里藏刀, 新浪...</td>\n",
       "    </tr>\n",
       "    <tr>\n",
       "      <th>4</th>\n",
       "      <td>揭秘谢亚龙被带走：总局电话骗局 复制南杨轨迹体坛周报特约记者张锐北京报道  谢亚龙已经被公安...</td>\n",
       "      <td>体育</td>\n",
       "      <td>[揭秘, 谢亚龙, 带走, 总局, 电话, 骗局, 复制, 南杨, 轨迹, 体坛周报, 特约...</td>\n",
       "    </tr>\n",
       "    <tr>\n",
       "      <th>...</th>\n",
       "      <td>...</td>\n",
       "      <td>...</td>\n",
       "      <td>...</td>\n",
       "    </tr>\n",
       "    <tr>\n",
       "      <th>49995</th>\n",
       "      <td>打好投资的决胜局□国泰基金 阿邰就长期而言，资产配置占投资成功与否的决定因素高达90%以上。...</td>\n",
       "      <td>财经</td>\n",
       "      <td>[好, 投资, 决胜局, □, 国泰, 基金, 邰, 长期, 资产, 配置, 占, 投资, ...</td>\n",
       "    </tr>\n",
       "    <tr>\n",
       "      <th>49996</th>\n",
       "      <td>昔明星基金今年首月负收益 QDII成今年胸闷基金□晨报记者 陈重博2009年以来，所有偏股型...</td>\n",
       "      <td>财经</td>\n",
       "      <td>[昔, 明星, 基金, 今年, 首月, 负, 收益, QDII, 成, 今年, 胸闷, 基金...</td>\n",
       "    </tr>\n",
       "    <tr>\n",
       "      <th>49997</th>\n",
       "      <td>沪基指全周大涨8.25% 创两个月最大周涨幅全景网2月6日讯 受到A股市场牛年高歌猛进影响，...</td>\n",
       "      <td>财经</td>\n",
       "      <td>[沪, 基指全, 周大涨, 8.25%, 创, 两个, 月, 最大, 周, 涨幅, 全景网,...</td>\n",
       "    </tr>\n",
       "    <tr>\n",
       "      <th>49998</th>\n",
       "      <td>沪基指半日涨2.01% 两市封基近乎全线上扬全景网2月6日讯 沪深基金指数周五早盘大幅收高，...</td>\n",
       "      <td>财经</td>\n",
       "      <td>[沪, 基指, 半日, 涨, 2.01%, 两市, 封基, 近乎, 全线, 上扬, 全景网,...</td>\n",
       "    </tr>\n",
       "    <tr>\n",
       "      <th>49999</th>\n",
       "      <td>牛年第一月 开基抬头券商集合理财掉队每经记者 于春敏在金融危机的淫威之下，2008年，全球资...</td>\n",
       "      <td>财经</td>\n",
       "      <td>[牛, 年, 第一, 月, 开基, 抬头, 券商, 集合, 理财, 掉队, 每经, 记者, ...</td>\n",
       "    </tr>\n",
       "  </tbody>\n",
       "</table>\n",
       "<p>50000 rows × 3 columns</p>\n",
       "</div>"
      ],
      "text/plain": [
       "                                                 content label  \\\n",
       "0      马晓旭意外受伤让国奥警惕 无奈大雨格外青睐殷家军记者傅亚雨沈阳报道 来到沈阳，国奥队依然没有...    体育   \n",
       "1      商瑞华首战复仇心切 中国玫瑰要用美国方式攻克瑞典多曼来了，瑞典来了，商瑞华首战求3分的信心也...    体育   \n",
       "2      冠军球队迎新欢乐派对 黄旭获大奖张军赢下PK赛新浪体育讯12月27日晚，“冠军高尔夫球队迎新...    体育   \n",
       "3      辽足签约危机引注册难关 高层威逼利诱合同笑里藏刀新浪体育讯2月24日，辽足爆发了集体拒签风波...    体育   \n",
       "4      揭秘谢亚龙被带走：总局电话骗局 复制南杨轨迹体坛周报特约记者张锐北京报道  谢亚龙已经被公安...    体育   \n",
       "...                                                  ...   ...   \n",
       "49995  打好投资的决胜局□国泰基金 阿邰就长期而言，资产配置占投资成功与否的决定因素高达90%以上。...    财经   \n",
       "49996  昔明星基金今年首月负收益 QDII成今年胸闷基金□晨报记者 陈重博2009年以来，所有偏股型...    财经   \n",
       "49997  沪基指全周大涨8.25% 创两个月最大周涨幅全景网2月6日讯 受到A股市场牛年高歌猛进影响，...    财经   \n",
       "49998  沪基指半日涨2.01% 两市封基近乎全线上扬全景网2月6日讯 沪深基金指数周五早盘大幅收高，...    财经   \n",
       "49999  牛年第一月 开基抬头券商集合理财掉队每经记者 于春敏在金融危机的淫威之下，2008年，全球资...    财经   \n",
       "\n",
       "                                                  tokens  \n",
       "0      [马晓旭, 意外, 受伤, 国奥, 警惕, 无奈, 大雨, 格外, 青睐, 殷家, 军, 记...  \n",
       "1      [商瑞华, 首战, 复仇, 心切, 中国, 玫瑰, 美国, 方式, 攻克, 瑞典, 多曼来,...  \n",
       "2      [冠军, 球队, 迎新, 欢乐, 派对, 黄旭获, 大奖, 张军, 赢, 下, PK, 赛,...  \n",
       "3      [辽足, 签约, 危机, 引, 注册, 难关, 高层, 威逼利诱, 合同, 笑里藏刀, 新浪...  \n",
       "4      [揭秘, 谢亚龙, 带走, 总局, 电话, 骗局, 复制, 南杨, 轨迹, 体坛周报, 特约...  \n",
       "...                                                  ...  \n",
       "49995  [好, 投资, 决胜局, □, 国泰, 基金, 邰, 长期, 资产, 配置, 占, 投资, ...  \n",
       "49996  [昔, 明星, 基金, 今年, 首月, 负, 收益, QDII, 成, 今年, 胸闷, 基金...  \n",
       "49997  [沪, 基指全, 周大涨, 8.25%, 创, 两个, 月, 最大, 周, 涨幅, 全景网,...  \n",
       "49998  [沪, 基指, 半日, 涨, 2.01%, 两市, 封基, 近乎, 全线, 上扬, 全景网,...  \n",
       "49999  [牛, 年, 第一, 月, 开基, 抬头, 券商, 集合, 理财, 掉队, 每经, 记者, ...  \n",
       "\n",
       "[50000 rows x 3 columns]"
      ]
     },
     "execution_count": 30,
     "metadata": {},
     "output_type": "execute_result"
    }
   ],
   "source": [
    "train"
   ]
  },
  {
   "cell_type": "code",
   "execution_count": 76,
   "id": "4324b6f1",
   "metadata": {},
   "outputs": [],
   "source": [
    "train = train_bk.copy()"
   ]
  },
  {
   "cell_type": "code",
   "execution_count": 77,
   "id": "9512c291",
   "metadata": {},
   "outputs": [],
   "source": [
    "np.random.seed(1234)"
   ]
  },
  {
   "cell_type": "code",
   "execution_count": 109,
   "id": "ecb79068",
   "metadata": {},
   "outputs": [],
   "source": [
    "dfs = []\n",
    "n = 2\n",
    "for label, group in train.groupby('label'):\n",
    "    group = group.sample(n=n, replace=False)\n",
    "    dfs.append(group)"
   ]
  },
  {
   "cell_type": "code",
   "execution_count": 110,
   "id": "1637dffb",
   "metadata": {},
   "outputs": [],
   "source": [
    "train_small = pd.concat(dfs, axis=0)"
   ]
  },
  {
   "cell_type": "code",
   "execution_count": 111,
   "id": "f002b02a",
   "metadata": {},
   "outputs": [
    {
     "data": {
      "text/html": [
       "<div>\n",
       "<style scoped>\n",
       "    .dataframe tbody tr th:only-of-type {\n",
       "        vertical-align: middle;\n",
       "    }\n",
       "\n",
       "    .dataframe tbody tr th {\n",
       "        vertical-align: top;\n",
       "    }\n",
       "\n",
       "    .dataframe thead th {\n",
       "        text-align: right;\n",
       "    }\n",
       "</style>\n",
       "<table border=\"1\" class=\"dataframe\">\n",
       "  <thead>\n",
       "    <tr style=\"text-align: right;\">\n",
       "      <th></th>\n",
       "      <th>content</th>\n",
       "      <th>label</th>\n",
       "      <th>tokens</th>\n",
       "    </tr>\n",
       "  </thead>\n",
       "  <tbody>\n",
       "    <tr>\n",
       "      <th>3922</th>\n",
       "      <td>斯科拉：塔比特有成伟大中锋的基础 我会给他建议新浪体育讯北京时间2月26日消息，火箭球员路易...</td>\n",
       "      <td>体育</td>\n",
       "      <td>[斯科拉, 塔比, 特有, 成, 伟大, 中锋, 基础, 我会, 建议, 新浪, 体育讯, ...</td>\n",
       "    </tr>\n",
       "    <tr>\n",
       "      <th>2284</th>\n",
       "      <td>三分王对决两双王技高一筹 马修斯36分创生涯新高新浪体育讯北京时间1月8日消息，据美联社报道...</td>\n",
       "      <td>体育</td>\n",
       "      <td>[三分王, 对决, 两双, 王, 技高一筹, 马修斯, 36, 分创, 生涯, 新高, 新浪...</td>\n",
       "    </tr>\n",
       "    <tr>\n",
       "      <th>6476</th>\n",
       "      <td>甄子丹《十月围城》扮相曝光 三小时完成造型新浪娱乐讯 由陈可辛、黄建新联合监制，陈德森导演的...</td>\n",
       "      <td>娱乐</td>\n",
       "      <td>[甄子丹, 十月, 围城, 扮相, 曝光, 三, 小时, 完成, 造型, 新浪, 娱乐, 讯...</td>\n",
       "    </tr>\n",
       "  </tbody>\n",
       "</table>\n",
       "</div>"
      ],
      "text/plain": [
       "                                                content label  \\\n",
       "3922  斯科拉：塔比特有成伟大中锋的基础 我会给他建议新浪体育讯北京时间2月26日消息，火箭球员路易...    体育   \n",
       "2284  三分王对决两双王技高一筹 马修斯36分创生涯新高新浪体育讯北京时间1月8日消息，据美联社报道...    体育   \n",
       "6476  甄子丹《十月围城》扮相曝光 三小时完成造型新浪娱乐讯 由陈可辛、黄建新联合监制，陈德森导演的...    娱乐   \n",
       "\n",
       "                                                 tokens  \n",
       "3922  [斯科拉, 塔比, 特有, 成, 伟大, 中锋, 基础, 我会, 建议, 新浪, 体育讯, ...  \n",
       "2284  [三分王, 对决, 两双, 王, 技高一筹, 马修斯, 36, 分创, 生涯, 新高, 新浪...  \n",
       "6476  [甄子丹, 十月, 围城, 扮相, 曝光, 三, 小时, 完成, 造型, 新浪, 娱乐, 讯...  "
      ]
     },
     "execution_count": 111,
     "metadata": {},
     "output_type": "execute_result"
    }
   ],
   "source": [
    "train_small.head(3)"
   ]
  },
  {
   "cell_type": "code",
   "execution_count": 112,
   "id": "7bcf8666",
   "metadata": {},
   "outputs": [],
   "source": [
    "tfidf = TfidfVectorizer(tokenizer=identity_tokenizer, stop_words=None, lowercase=False, max_features=N)    \n",
    "train_features = tfidf.fit_transform(train_small.tokens).toarray()\n",
    "test_features = tfidf.transform(test.tokens).toarray()"
   ]
  },
  {
   "cell_type": "code",
   "execution_count": 113,
   "id": "8643c830",
   "metadata": {},
   "outputs": [
    {
     "data": {
      "text/plain": [
       "LogisticRegression()"
      ]
     },
     "execution_count": 113,
     "metadata": {},
     "output_type": "execute_result"
    }
   ],
   "source": [
    "X_train, y_train = train_features, train_small.label.values\n",
    "X_test, y_test = test_features, test.label.values\n",
    "\n",
    "model = LogisticRegression()\n",
    "model.fit(X_train, y_train)"
   ]
  },
  {
   "cell_type": "code",
   "execution_count": 114,
   "id": "6047bea8",
   "metadata": {},
   "outputs": [
    {
     "data": {
      "text/plain": [
       "(20, 2048)"
      ]
     },
     "execution_count": 114,
     "metadata": {},
     "output_type": "execute_result"
    }
   ],
   "source": [
    "X_train.shape"
   ]
  },
  {
   "cell_type": "code",
   "execution_count": 115,
   "id": "e4391b74",
   "metadata": {},
   "outputs": [
    {
     "name": "stdout",
     "output_type": "stream",
     "text": [
      "              precision    recall  f1-score   support\n",
      "\n",
      "          体育       0.58      0.97      0.73      1000\n",
      "          娱乐       0.67      0.70      0.68      1000\n",
      "          家居       0.30      0.08      0.12      1000\n",
      "          房产       0.64      0.62      0.63      1000\n",
      "          教育       0.60      0.63      0.61      1000\n",
      "          时尚       0.49      0.80      0.61      1000\n",
      "          时政       0.80      0.23      0.36      1000\n",
      "          游戏       0.72      0.76      0.74      1000\n",
      "          科技       0.04      0.01      0.02      1000\n",
      "          财经       0.42      0.75      0.54      1000\n",
      "\n",
      "    accuracy                           0.55     10000\n",
      "   macro avg       0.53      0.55      0.50     10000\n",
      "weighted avg       0.53      0.55      0.50     10000\n",
      "\n"
     ]
    }
   ],
   "source": [
    "y_test_pred = model.predict(X_test)\n",
    "print(metrics.classification_report(y_test, y_test_pred))"
   ]
  },
  {
   "cell_type": "code",
   "execution_count": null,
   "id": "b929ef4e",
   "metadata": {},
   "outputs": [],
   "source": []
  },
  {
   "cell_type": "code",
   "execution_count": 117,
   "id": "41494d0b",
   "metadata": {},
   "outputs": [
    {
     "data": {
      "text/html": [
       "<div>\n",
       "<style scoped>\n",
       "    .dataframe tbody tr th:only-of-type {\n",
       "        vertical-align: middle;\n",
       "    }\n",
       "\n",
       "    .dataframe tbody tr th {\n",
       "        vertical-align: top;\n",
       "    }\n",
       "\n",
       "    .dataframe thead th {\n",
       "        text-align: right;\n",
       "    }\n",
       "</style>\n",
       "<table border=\"1\" class=\"dataframe\">\n",
       "  <thead>\n",
       "    <tr style=\"text-align: right;\">\n",
       "      <th></th>\n",
       "      <th>content</th>\n",
       "      <th>label</th>\n",
       "      <th>tokens</th>\n",
       "    </tr>\n",
       "  </thead>\n",
       "  <tbody>\n",
       "    <tr>\n",
       "      <th>0</th>\n",
       "      <td>鲍勃库西奖归谁属？ NCAA最强控卫是坎巴还是弗神新浪体育讯如今，本赛季的NCAA进入到了末...</td>\n",
       "      <td>体育</td>\n",
       "      <td>[鲍勃, 库西, 奖归, 属, NCAA, 最强, 控卫, 坎巴, 弗神, 新浪, 体育讯,...</td>\n",
       "    </tr>\n",
       "    <tr>\n",
       "      <th>1</th>\n",
       "      <td>麦基砍28+18+5却充满寂寞 纪录之夜他的痛阿联最懂新浪体育讯上天对每个人都是公平的，贾维...</td>\n",
       "      <td>体育</td>\n",
       "      <td>[麦基, 砍, 28, +, 18, +, 5, 却, 充满, 寂寞, 纪录, 之夜, 痛,...</td>\n",
       "    </tr>\n",
       "    <tr>\n",
       "      <th>2</th>\n",
       "      <td>黄蜂vs湖人首发：科比冲击七连胜 火箭两旧将登场新浪体育讯北京时间3月28日，NBA常规赛洛...</td>\n",
       "      <td>体育</td>\n",
       "      <td>[黄蜂, vs, 湖人, 首发, 科比, 冲击, 七, 连胜, 火箭, 两旧, 登场, 新浪...</td>\n",
       "    </tr>\n",
       "    <tr>\n",
       "      <th>3</th>\n",
       "      <td>双面谢亚龙作秀终成做作 谁来为低劣行政能力埋单是谁任命了谢亚龙？谁放纵了谢亚龙？谁又该为谢亚...</td>\n",
       "      <td>体育</td>\n",
       "      <td>[双面, 谢亚龙, 作秀, 终成, 做作, 低劣, 行政, 能力, 埋单, 任命, 谢亚龙,...</td>\n",
       "    </tr>\n",
       "    <tr>\n",
       "      <th>4</th>\n",
       "      <td>兔年首战山西换帅后有虎胆 张学文用乔丹名言励志今晚客场挑战浙江稠州银行队，是山西汾酒男篮的兔...</td>\n",
       "      <td>体育</td>\n",
       "      <td>[兔年, 首战, 山西, 换帅, 后, 虎胆, 张学文, 乔丹, 名言, 励志, 今晚, 客...</td>\n",
       "    </tr>\n",
       "    <tr>\n",
       "      <th>...</th>\n",
       "      <td>...</td>\n",
       "      <td>...</td>\n",
       "      <td>...</td>\n",
       "    </tr>\n",
       "    <tr>\n",
       "      <th>9995</th>\n",
       "      <td>近期18只偏股基金成立 将为股市新增300亿资金兴业有机增长混合基金23日发布公告称，基金募...</td>\n",
       "      <td>财经</td>\n",
       "      <td>[近期, 18, 只, 偏股, 基金, 成立, 股市, 新增, 300, 亿, 资金, 兴业...</td>\n",
       "    </tr>\n",
       "    <tr>\n",
       "      <th>9996</th>\n",
       "      <td>银华基金杨靖聊政策性主题投资机会实录新浪财经讯 银华和谐主题基金拟任基金经理助理杨靖于3月2...</td>\n",
       "      <td>财经</td>\n",
       "      <td>[银华, 基金, 杨靖聊, 政策性, 主题, 投资, 机会, 实录, 新浪, 财经, 讯, ...</td>\n",
       "    </tr>\n",
       "    <tr>\n",
       "      <th>9997</th>\n",
       "      <td>首只基金投资信心指数问世本报讯 (记者吴敏)昨日，嘉实基金宣布推出“嘉实中国基金投资者信心指...</td>\n",
       "      <td>财经</td>\n",
       "      <td>[首, 只, 基金, 投资, 信心, 指数, 问世, 本报讯, (, 记者, 吴敏, ), ...</td>\n",
       "    </tr>\n",
       "    <tr>\n",
       "      <th>9998</th>\n",
       "      <td>17只阳光私募3月份火速成立证券时报记者 方 丽本报讯 阳光私募产品迎来了发行高潮。WIND...</td>\n",
       "      <td>财经</td>\n",
       "      <td>[17, 只, 阳光, 私募, 3, 月份, 火速, 成立, 证券时报, 记者, 方, 丽,...</td>\n",
       "    </tr>\n",
       "    <tr>\n",
       "      <th>9999</th>\n",
       "      <td>25日股票基金全线受挫 九成半基金跌逾1%全景网3月26日讯 周三开放式基金净值普降，股票型...</td>\n",
       "      <td>财经</td>\n",
       "      <td>[25, 日, 股票, 基金, 全线, 受挫, 九成, 半, 基金, 跌, 逾, 1%, 全...</td>\n",
       "    </tr>\n",
       "  </tbody>\n",
       "</table>\n",
       "<p>10000 rows × 3 columns</p>\n",
       "</div>"
      ],
      "text/plain": [
       "                                                content label  \\\n",
       "0     鲍勃库西奖归谁属？ NCAA最强控卫是坎巴还是弗神新浪体育讯如今，本赛季的NCAA进入到了末...    体育   \n",
       "1     麦基砍28+18+5却充满寂寞 纪录之夜他的痛阿联最懂新浪体育讯上天对每个人都是公平的，贾维...    体育   \n",
       "2     黄蜂vs湖人首发：科比冲击七连胜 火箭两旧将登场新浪体育讯北京时间3月28日，NBA常规赛洛...    体育   \n",
       "3     双面谢亚龙作秀终成做作 谁来为低劣行政能力埋单是谁任命了谢亚龙？谁放纵了谢亚龙？谁又该为谢亚...    体育   \n",
       "4     兔年首战山西换帅后有虎胆 张学文用乔丹名言励志今晚客场挑战浙江稠州银行队，是山西汾酒男篮的兔...    体育   \n",
       "...                                                 ...   ...   \n",
       "9995  近期18只偏股基金成立 将为股市新增300亿资金兴业有机增长混合基金23日发布公告称，基金募...    财经   \n",
       "9996  银华基金杨靖聊政策性主题投资机会实录新浪财经讯 银华和谐主题基金拟任基金经理助理杨靖于3月2...    财经   \n",
       "9997  首只基金投资信心指数问世本报讯 (记者吴敏)昨日，嘉实基金宣布推出“嘉实中国基金投资者信心指...    财经   \n",
       "9998  17只阳光私募3月份火速成立证券时报记者 方 丽本报讯 阳光私募产品迎来了发行高潮。WIND...    财经   \n",
       "9999  25日股票基金全线受挫 九成半基金跌逾1%全景网3月26日讯 周三开放式基金净值普降，股票型...    财经   \n",
       "\n",
       "                                                 tokens  \n",
       "0     [鲍勃, 库西, 奖归, 属, NCAA, 最强, 控卫, 坎巴, 弗神, 新浪, 体育讯,...  \n",
       "1     [麦基, 砍, 28, +, 18, +, 5, 却, 充满, 寂寞, 纪录, 之夜, 痛,...  \n",
       "2     [黄蜂, vs, 湖人, 首发, 科比, 冲击, 七, 连胜, 火箭, 两旧, 登场, 新浪...  \n",
       "3     [双面, 谢亚龙, 作秀, 终成, 做作, 低劣, 行政, 能力, 埋单, 任命, 谢亚龙,...  \n",
       "4     [兔年, 首战, 山西, 换帅, 后, 虎胆, 张学文, 乔丹, 名言, 励志, 今晚, 客...  \n",
       "...                                                 ...  \n",
       "9995  [近期, 18, 只, 偏股, 基金, 成立, 股市, 新增, 300, 亿, 资金, 兴业...  \n",
       "9996  [银华, 基金, 杨靖聊, 政策性, 主题, 投资, 机会, 实录, 新浪, 财经, 讯, ...  \n",
       "9997  [首, 只, 基金, 投资, 信心, 指数, 问世, 本报讯, (, 记者, 吴敏, ), ...  \n",
       "9998  [17, 只, 阳光, 私募, 3, 月份, 火速, 成立, 证券时报, 记者, 方, 丽,...  \n",
       "9999  [25, 日, 股票, 基金, 全线, 受挫, 九成, 半, 基金, 跌, 逾, 1%, 全...  \n",
       "\n",
       "[10000 rows x 3 columns]"
      ]
     },
     "execution_count": 117,
     "metadata": {},
     "output_type": "execute_result"
    }
   ],
   "source": [
    "test"
   ]
  },
  {
   "cell_type": "code",
   "execution_count": 118,
   "id": "23271a5e",
   "metadata": {},
   "outputs": [
    {
     "name": "stderr",
     "output_type": "stream",
     "text": [
      "f:\\python\\python37\\lib\\site-packages\\gensim\\similarities\\__init__.py:15: UserWarning: The gensim.similarities.levenshtein submodule is disabled, because the optional Levenshtein package <https://pypi.org/project/python-Levenshtein/> is unavailable. Install Levenhstein (e.g. `pip install python-Levenshtein`) to suppress this warning.\n",
      "  warnings.warn(msg)\n"
     ]
    }
   ],
   "source": [
    "from gensim.models import Word2Vec"
   ]
  },
  {
   "cell_type": "code",
   "execution_count": 143,
   "id": "2bfb5635",
   "metadata": {},
   "outputs": [],
   "source": [
    "train_small = train.copy()"
   ]
  },
  {
   "cell_type": "code",
   "execution_count": 144,
   "id": "76367e9f",
   "metadata": {},
   "outputs": [],
   "source": [
    "# 词向量维度\n",
    "VEC_SIZE = 128\n",
    "\n",
    "w2v_model = Word2Vec(\n",
    "    train_small.content.values, \n",
    "    vector_size=VEC_SIZE, \n",
    "    min_count=3, \n",
    "    seed=1234\n",
    ")"
   ]
  },
  {
   "cell_type": "code",
   "execution_count": 152,
   "id": "9a363633",
   "metadata": {},
   "outputs": [
    {
     "name": "stderr",
     "output_type": "stream",
     "text": [
      "f:\\python\\python37\\lib\\site-packages\\sklearn\\feature_extraction\\text.py:517: UserWarning: The parameter 'token_pattern' will not be used since 'tokenizer' is not None'\n",
      "  \"The parameter 'token_pattern' will not be used\"\n"
     ]
    },
    {
     "data": {
      "text/plain": [
       "TfidfVectorizer(lowercase=False, max_features=2048,\n",
       "                tokenizer=<function identity_tokenizer at 0x000001F30FED5318>)"
      ]
     },
     "execution_count": 152,
     "metadata": {},
     "output_type": "execute_result"
    }
   ],
   "source": [
    "tfidf = TfidfVectorizer(tokenizer=identity_tokenizer, stop_words=None, lowercase=False, max_features=N) \n",
    "tfidf.fit(train_small.tokens)\n",
    "tfidf_id_to_tokens = {v: k for k, v in tfidf_model.vocabulary_.items()}"
   ]
  },
  {
   "cell_type": "code",
   "execution_count": 159,
   "id": "70d3f5ba",
   "metadata": {},
   "outputs": [],
   "source": []
  },
  {
   "cell_type": "code",
   "execution_count": 145,
   "id": "862260de",
   "metadata": {},
   "outputs": [
    {
     "name": "stdout",
     "output_type": "stream",
     "text": [
      "['马晓旭', '意外', '受伤', '国奥', '警惕', '无奈', '大雨', '格外', '青睐', '殷家', '军', '记者', '傅亚雨', '沈阳', '报道', '来到', '沈阳', '国奥队', '依然', '没有', '摆脱', '雨水', '困扰', '7', '月', '31', '日', '下午', '6', '点', '国奥队', '日常', '训练', '再度', '受到', '大雨', '干扰', '无奈', '之下', '队员', '只', '慢跑', '25', '分钟', '草草收场', '31', '日', '上午', '10', '点', '国奥队', '奥体中心', '外场', '训练', '天', '阴沉沉', '气象预报', '显示', '当天', '下午', '沈阳', '大雨', '幸好', '队伍', '上午', '训练', '没有', '受到', '干扰', '下午', '6', '点', '球队', '抵达', '训练场', '时', '大雨', '已经', '下', '几个', '小时', '丝毫', '没有', '停下来', '意思', '抱', '试一试', '态度', '球队', '当天', '下午', '例行', '训练', '25', '分钟', '过去', '天气', '没有', '转好', '迹象', '保护', '球员', '国奥队', '决定', '中止', '当天', '训练', '全队', '立即', '返回', '酒店', '雨', '中', '训练', '足球队', '来说', '不是', '稀罕', '事', '奥运会', '即将', '之前', '全队', '变得', '娇贵', '沈阳', '最后', '一周', '训练', '国奥队', '保证', '现有', '球员', '不再', '出现意外', '伤病', '情况', '影响', '正式', '比赛', '这一', '阶段', '控制', '训练', '受伤', '控制', '感冒', '疾病', '出现', '队伍', '放在', '相当', '重要', '位置', '抵达', '沈阳', '之后', '中', '后卫', '冯萧霆', '一直', '没有', '训练', '冯萧霆', '7', '月', '27', '日', '长春', '患上', '感冒', '没有', '参加', '29', '日', '塞尔维亚', '热身赛', '队伍', '介绍', '说', '冯萧霆', '没有', '出现', '发烧', '症状', '安全', '见', '两天', '静养', '休息', '感冒', '彻底', '好', '之后', '再', '恢复', '训练', '冯萧霆', '例子', '国奥队', '对雨中', '训练', '显得', '特别', '谨慎', '主要', '担心', '球员', '受凉', '引发', '感冒', '造成', '非战斗', '减员', '女足', '队员', '马晓旭', '热身赛', '中', '受伤', '导致', '无缘', '奥运', '前科', '沈阳', '国奥队', '现在', '格外', '警惕', '训练', '中', '不断', '嘱咐', '队员', '注意', '动作', '不能', '再出', '事情', '一位', '工作人员', '表示', '长春', '沈阳', '雨水', '一路', '伴随', '国奥队', '邪', '走', '雨', '下', '长春', '几次', '训练', '都', '大雨', '搅和', '没想到', '沈阳', '碰到', '这种', '事情', '一位', '国奥', '球员', '雨水', '青睐', '不解']\n"
     ]
    }
   ],
   "source": [
    "tokens = train.tokens.values[0]\n",
    "print(tokens)"
   ]
  },
  {
   "cell_type": "code",
   "execution_count": 187,
   "id": "d1f8d488",
   "metadata": {},
   "outputs": [],
   "source": [
    "def build_feature(tokens):\n",
    "    tfidf_feature = tfidf_model.transform([tokens])\n",
    "    tfidf_feature = dict(tfidf_feature.todok().items())\n",
    "    tfidf_feature = {k[1]: v for k, v in tfidf_feature.items()}\n",
    "    \n",
    "    feature = np.zeros(VEC_SIZE)\n",
    "    d = 0\n",
    "    # 对于每一个词\n",
    "    for token_id, tfidf_weight in tfidf_feature.items():\n",
    "        # 该词必须要有词向量，如果没有就跳过该词\n",
    "        token = tfidf_id_to_tokens[token_id]\n",
    "        if token not in w2v_model.wv:\n",
    "            continue\n",
    "        vector = w2v_model.wv[token]\n",
    "        feature += tfidf_weight * vector\n",
    "        d += tfidf_weight\n",
    "    if d:\n",
    "        feature /= d\n",
    "    return feature"
   ]
  },
  {
   "cell_type": "code",
   "execution_count": 146,
   "id": "7b9311d5",
   "metadata": {},
   "outputs": [],
   "source": [
    "def to_feature(tokens):\n",
    "    feature = np.zeros(VEC_SIZE)\n",
    "    n = 0\n",
    "    for token in tokens:\n",
    "        if token in w2v_model.wv:\n",
    "            feature += w2v_model.wv[token]\n",
    "            n += 1\n",
    "    if n:\n",
    "        feature /= n\n",
    "    return feature"
   ]
  },
  {
   "cell_type": "code",
   "execution_count": 195,
   "id": "4522d0c4",
   "metadata": {},
   "outputs": [],
   "source": [
    "to_feature = build_feature"
   ]
  },
  {
   "cell_type": "code",
   "execution_count": null,
   "id": "abdeca86",
   "metadata": {},
   "outputs": [],
   "source": []
  },
  {
   "cell_type": "code",
   "execution_count": 196,
   "id": "52c2d3ee",
   "metadata": {},
   "outputs": [],
   "source": [
    "train_small['feature'] = train_small.tokens.apply(to_feature)\n",
    "X_train = np.vstack(train_small.feature.values)"
   ]
  },
  {
   "cell_type": "code",
   "execution_count": 197,
   "id": "8e1cd902",
   "metadata": {},
   "outputs": [],
   "source": [
    "test['feature'] = test.tokens.apply(to_feature)\n",
    "X_test = np.vstack(test.feature.values)"
   ]
  },
  {
   "cell_type": "code",
   "execution_count": 205,
   "id": "7230b635",
   "metadata": {},
   "outputs": [],
   "source": [
    "y_train = train_small.label.values\n",
    "y_test = test.label.values"
   ]
  },
  {
   "cell_type": "code",
   "execution_count": null,
   "id": "c9f70b10",
   "metadata": {},
   "outputs": [],
   "source": []
  },
  {
   "cell_type": "code",
   "execution_count": 208,
   "id": "3d56be8f",
   "metadata": {},
   "outputs": [],
   "source": [
    "indices = np.random.choice(len(y_train), 100, replace=False)"
   ]
  },
  {
   "cell_type": "code",
   "execution_count": 212,
   "id": "e4136e26",
   "metadata": {},
   "outputs": [],
   "source": [
    "indices = defaultdict(list)\n",
    "for index, label in enumerate(y_train):\n",
    "    indices[label].append(index)"
   ]
  },
  {
   "cell_type": "code",
   "execution_count": 221,
   "id": "68be9050",
   "metadata": {},
   "outputs": [],
   "source": [
    "n = 100\n",
    "selected_indices = []\n",
    "for label, label_indices in indices.items():\n",
    "    selected_indices.extend(np.random.choice(label_indices, n, replace=False))"
   ]
  },
  {
   "cell_type": "code",
   "execution_count": 222,
   "id": "4ff52f40",
   "metadata": {},
   "outputs": [
    {
     "name": "stderr",
     "output_type": "stream",
     "text": [
      "f:\\python\\python37\\lib\\site-packages\\sklearn\\linear_model\\_logistic.py:818: ConvergenceWarning: lbfgs failed to converge (status=1):\n",
      "STOP: TOTAL NO. of ITERATIONS REACHED LIMIT.\n",
      "\n",
      "Increase the number of iterations (max_iter) or scale the data as shown in:\n",
      "    https://scikit-learn.org/stable/modules/preprocessing.html\n",
      "Please also refer to the documentation for alternative solver options:\n",
      "    https://scikit-learn.org/stable/modules/linear_model.html#logistic-regression\n",
      "  extra_warning_msg=_LOGISTIC_SOLVER_CONVERGENCE_MSG,\n"
     ]
    },
    {
     "data": {
      "text/plain": [
       "LogisticRegression()"
      ]
     },
     "execution_count": 222,
     "metadata": {},
     "output_type": "execute_result"
    }
   ],
   "source": [
    "model = LogisticRegression()\n",
    "model.fit(X_train[selected_indices], y_train[selected_indices])"
   ]
  },
  {
   "cell_type": "code",
   "execution_count": 223,
   "id": "a8dde5ec",
   "metadata": {},
   "outputs": [
    {
     "name": "stdout",
     "output_type": "stream",
     "text": [
      "              precision    recall  f1-score   support\n",
      "\n",
      "          体育       0.78      0.74      0.76      1000\n",
      "          娱乐       0.71      0.64      0.67      1000\n",
      "          家居       0.43      0.08      0.13      1000\n",
      "          房产       0.42      0.48      0.45      1000\n",
      "          教育       0.40      0.50      0.44      1000\n",
      "          时尚       0.73      0.71      0.72      1000\n",
      "          时政       0.54      0.56      0.55      1000\n",
      "          游戏       0.45      0.54      0.49      1000\n",
      "          科技       0.61      0.71      0.65      1000\n",
      "          财经       0.44      0.53      0.48      1000\n",
      "\n",
      "    accuracy                           0.55     10000\n",
      "   macro avg       0.55      0.55      0.53     10000\n",
      "weighted avg       0.55      0.55      0.53     10000\n",
      "\n"
     ]
    }
   ],
   "source": [
    "y_test_pred = model.predict(X_test)\n",
    "print(metrics.classification_report(y_test, y_test_pred))"
   ]
  },
  {
   "cell_type": "code",
   "execution_count": null,
   "id": "09524a68",
   "metadata": {},
   "outputs": [],
   "source": []
  },
  {
   "cell_type": "code",
   "execution_count": null,
   "id": "a0a41964",
   "metadata": {},
   "outputs": [],
   "source": []
  },
  {
   "cell_type": "code",
   "execution_count": null,
   "id": "240300cb",
   "metadata": {},
   "outputs": [],
   "source": []
  },
  {
   "cell_type": "code",
   "execution_count": null,
   "id": "b2692834",
   "metadata": {},
   "outputs": [],
   "source": []
  },
  {
   "cell_type": "code",
   "execution_count": 151,
   "id": "aca4ac7e",
   "metadata": {},
   "outputs": [
    {
     "name": "stdout",
     "output_type": "stream",
     "text": [
      "              precision    recall  f1-score   support\n",
      "\n",
      "          体育       0.82      0.85      0.84      1000\n",
      "          娱乐       0.77      0.79      0.78      1000\n",
      "          家居       0.56      0.16      0.24      1000\n",
      "          房产       0.53      0.60      0.56      1000\n",
      "          教育       0.50      0.56      0.53      1000\n",
      "          时尚       0.77      0.85      0.80      1000\n",
      "          时政       0.64      0.67      0.65      1000\n",
      "          游戏       0.58      0.60      0.59      1000\n",
      "          科技       0.71      0.75      0.73      1000\n",
      "          财经       0.62      0.73      0.67      1000\n",
      "\n",
      "    accuracy                           0.66     10000\n",
      "   macro avg       0.65      0.66      0.64     10000\n",
      "weighted avg       0.65      0.66      0.64     10000\n",
      "\n"
     ]
    }
   ],
   "source": [
    "y_test_pred = model.predict(X_test)\n",
    "print(metrics.classification_report(y_test, y_test_pred))"
   ]
  },
  {
   "cell_type": "code",
   "execution_count": null,
   "id": "7094afd8",
   "metadata": {},
   "outputs": [],
   "source": []
  },
  {
   "cell_type": "code",
   "execution_count": null,
   "id": "6208aade",
   "metadata": {},
   "outputs": [],
   "source": []
  },
  {
   "cell_type": "code",
   "execution_count": null,
   "id": "5ac55eb1",
   "metadata": {},
   "outputs": [],
   "source": []
  },
  {
   "cell_type": "code",
   "execution_count": null,
   "id": "f2eb0fa4",
   "metadata": {},
   "outputs": [],
   "source": []
  },
  {
   "cell_type": "code",
   "execution_count": null,
   "id": "a8a100e7",
   "metadata": {},
   "outputs": [],
   "source": []
  },
  {
   "cell_type": "code",
   "execution_count": null,
   "id": "dda3f704",
   "metadata": {},
   "outputs": [],
   "source": []
  },
  {
   "cell_type": "code",
   "execution_count": null,
   "id": "a3421163",
   "metadata": {},
   "outputs": [],
   "source": []
  },
  {
   "cell_type": "code",
   "execution_count": null,
   "id": "3f9f5df2",
   "metadata": {},
   "outputs": [],
   "source": []
  }
 ],
 "metadata": {
  "kernelspec": {
   "display_name": "Python 3",
   "language": "python",
   "name": "python3"
  },
  "language_info": {
   "codemirror_mode": {
    "name": "ipython",
    "version": 3
   },
   "file_extension": ".py",
   "mimetype": "text/x-python",
   "name": "python",
   "nbconvert_exporter": "python",
   "pygments_lexer": "ipython3",
   "version": "3.7.8"
  }
 },
 "nbformat": 4,
 "nbformat_minor": 5
}
