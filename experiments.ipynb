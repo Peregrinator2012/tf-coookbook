{
 "cells": [
  {
   "cell_type": "code",
   "execution_count": 1,
   "id": "3bcac185",
   "metadata": {},
   "outputs": [
    {
     "name": "stderr",
     "output_type": "stream",
     "text": [
      "f:\\python\\python37\\lib\\site-packages\\gensim\\similarities\\__init__.py:15: UserWarning: The gensim.similarities.levenshtein submodule is disabled, because the optional Levenshtein package <https://pypi.org/project/python-Levenshtein/> is unavailable. Install Levenhstein (e.g. `pip install python-Levenshtein`) to suppress this warning.\n",
      "  warnings.warn(msg)\n"
     ]
    }
   ],
   "source": [
    "import re\n",
    "import os\n",
    "import pandas as pd\n",
    "import numpy as np\n",
    "import string\n",
    "import matplotlib.pyplot as plt\n",
    "from sklearn import metrics\n",
    "import jieba\n",
    "from collections import Counter, defaultdict\n",
    "from sklearn.feature_extraction.text import TfidfVectorizer, CountVectorizer\n",
    "\n",
    "from sklearn.linear_model import LogisticRegression\n",
    "from sklearn import metrics\n",
    "from gensim.models import Word2Vec\n",
    "from sklearn.svm import SVC"
   ]
  },
  {
   "cell_type": "code",
   "execution_count": null,
   "id": "06c3f557",
   "metadata": {},
   "outputs": [],
   "source": []
  },
  {
   "cell_type": "code",
   "execution_count": 2,
   "id": "8fd981e3",
   "metadata": {},
   "outputs": [],
   "source": [
    "# 中文字符显示\n",
    "plt.rcParams['font.sans-serif']=['SimHei'] \n",
    "plt.rcParams['axes.unicode_minus']=False "
   ]
  },
  {
   "cell_type": "code",
   "execution_count": 3,
   "id": "65b30079",
   "metadata": {},
   "outputs": [],
   "source": [
    "train = pd.read_csv('./cache/train.csv', index_col=0)\n",
    "test = pd.read_csv('./cache/test.csv', index_col=0)"
   ]
  },
  {
   "cell_type": "code",
   "execution_count": 4,
   "id": "0fdd2922",
   "metadata": {},
   "outputs": [],
   "source": [
    "train.tokens = train.tokens.apply(eval)\n",
    "test.tokens = test.tokens.apply(eval)"
   ]
  },
  {
   "cell_type": "code",
   "execution_count": 5,
   "id": "830c84a3",
   "metadata": {},
   "outputs": [
    {
     "data": {
      "text/html": [
       "<div>\n",
       "<style scoped>\n",
       "    .dataframe tbody tr th:only-of-type {\n",
       "        vertical-align: middle;\n",
       "    }\n",
       "\n",
       "    .dataframe tbody tr th {\n",
       "        vertical-align: top;\n",
       "    }\n",
       "\n",
       "    .dataframe thead th {\n",
       "        text-align: right;\n",
       "    }\n",
       "</style>\n",
       "<table border=\"1\" class=\"dataframe\">\n",
       "  <thead>\n",
       "    <tr style=\"text-align: right;\">\n",
       "      <th></th>\n",
       "      <th>content</th>\n",
       "      <th>label</th>\n",
       "      <th>tokens</th>\n",
       "    </tr>\n",
       "  </thead>\n",
       "  <tbody>\n",
       "    <tr>\n",
       "      <th>0</th>\n",
       "      <td>马晓旭意外受伤让国奥警惕 无奈大雨格外青睐殷家军记者傅亚雨沈阳报道 来到沈阳，国奥队依然没有...</td>\n",
       "      <td>体育</td>\n",
       "      <td>[马晓旭, 意外, 受伤, 国奥, 警惕, 无奈, 大雨, 格外, 青睐, 殷家, 军, 记...</td>\n",
       "    </tr>\n",
       "    <tr>\n",
       "      <th>1</th>\n",
       "      <td>商瑞华首战复仇心切 中国玫瑰要用美国方式攻克瑞典多曼来了，瑞典来了，商瑞华首战求3分的信心也...</td>\n",
       "      <td>体育</td>\n",
       "      <td>[商瑞华, 首战, 复仇, 心切, 中国, 玫瑰, 美国, 方式, 攻克, 瑞典, 多曼来,...</td>\n",
       "    </tr>\n",
       "    <tr>\n",
       "      <th>2</th>\n",
       "      <td>冠军球队迎新欢乐派对 黄旭获大奖张军赢下PK赛新浪体育讯12月27日晚，“冠军高尔夫球队迎新...</td>\n",
       "      <td>体育</td>\n",
       "      <td>[冠军, 球队, 迎新, 欢乐, 派对, 黄旭获, 大奖, 张军, 赢, 下, PK, 赛,...</td>\n",
       "    </tr>\n",
       "  </tbody>\n",
       "</table>\n",
       "</div>"
      ],
      "text/plain": [
       "                                             content label  \\\n",
       "0  马晓旭意外受伤让国奥警惕 无奈大雨格外青睐殷家军记者傅亚雨沈阳报道 来到沈阳，国奥队依然没有...    体育   \n",
       "1  商瑞华首战复仇心切 中国玫瑰要用美国方式攻克瑞典多曼来了，瑞典来了，商瑞华首战求3分的信心也...    体育   \n",
       "2  冠军球队迎新欢乐派对 黄旭获大奖张军赢下PK赛新浪体育讯12月27日晚，“冠军高尔夫球队迎新...    体育   \n",
       "\n",
       "                                              tokens  \n",
       "0  [马晓旭, 意外, 受伤, 国奥, 警惕, 无奈, 大雨, 格外, 青睐, 殷家, 军, 记...  \n",
       "1  [商瑞华, 首战, 复仇, 心切, 中国, 玫瑰, 美国, 方式, 攻克, 瑞典, 多曼来,...  \n",
       "2  [冠军, 球队, 迎新, 欢乐, 派对, 黄旭获, 大奖, 张军, 赢, 下, PK, 赛,...  "
      ]
     },
     "execution_count": 5,
     "metadata": {},
     "output_type": "execute_result"
    }
   ],
   "source": [
    "train.head(3)"
   ]
  },
  {
   "cell_type": "code",
   "execution_count": 6,
   "id": "213e1b58",
   "metadata": {},
   "outputs": [],
   "source": [
    "# 词向量维度\n",
    "VEC_SIZE = 128\n",
    "\n",
    "w2v_model = Word2Vec(\n",
    "    train.tokens.values, \n",
    "    vector_size=VEC_SIZE, \n",
    "    min_count=3, \n",
    "    seed=1234\n",
    ")"
   ]
  },
  {
   "cell_type": "code",
   "execution_count": null,
   "id": "54f6e0f9",
   "metadata": {},
   "outputs": [],
   "source": []
  },
  {
   "cell_type": "code",
   "execution_count": 7,
   "id": "5ecba8e8",
   "metadata": {},
   "outputs": [],
   "source": [
    "def identity_tokenizer(text):\n",
    "    return text\n"
   ]
  },
  {
   "cell_type": "code",
   "execution_count": 8,
   "id": "abcdc4b5",
   "metadata": {},
   "outputs": [
    {
     "data": {
      "text/plain": [
       "['马晓旭',\n",
       " '意外',\n",
       " '受伤',\n",
       " '国奥',\n",
       " '警惕',\n",
       " '无奈',\n",
       " '大雨',\n",
       " '格外',\n",
       " '青睐',\n",
       " '殷家',\n",
       " '军',\n",
       " '记者',\n",
       " '傅亚雨',\n",
       " '沈阳',\n",
       " '报道',\n",
       " '来到',\n",
       " '沈阳',\n",
       " '国奥队',\n",
       " '依然',\n",
       " '没有',\n",
       " '摆脱',\n",
       " '雨水',\n",
       " '困扰',\n",
       " '7',\n",
       " '月',\n",
       " '31',\n",
       " '日',\n",
       " '下午',\n",
       " '6',\n",
       " '点',\n",
       " '国奥队',\n",
       " '日常',\n",
       " '训练',\n",
       " '再度',\n",
       " '受到',\n",
       " '大雨',\n",
       " '干扰',\n",
       " '无奈',\n",
       " '之下',\n",
       " '队员',\n",
       " '只',\n",
       " '慢跑',\n",
       " '25',\n",
       " '分钟',\n",
       " '草草收场',\n",
       " '31',\n",
       " '日',\n",
       " '上午',\n",
       " '10',\n",
       " '点',\n",
       " '国奥队',\n",
       " '奥体中心',\n",
       " '外场',\n",
       " '训练',\n",
       " '天',\n",
       " '阴沉沉',\n",
       " '气象预报',\n",
       " '显示',\n",
       " '当天',\n",
       " '下午',\n",
       " '沈阳',\n",
       " '大雨',\n",
       " '幸好',\n",
       " '队伍',\n",
       " '上午',\n",
       " '训练',\n",
       " '没有',\n",
       " '受到',\n",
       " '干扰',\n",
       " '下午',\n",
       " '6',\n",
       " '点',\n",
       " '球队',\n",
       " '抵达',\n",
       " '训练场',\n",
       " '时',\n",
       " '大雨',\n",
       " '已经',\n",
       " '下',\n",
       " '几个',\n",
       " '小时',\n",
       " '丝毫',\n",
       " '没有',\n",
       " '停下来',\n",
       " '意思',\n",
       " '抱',\n",
       " '试一试',\n",
       " '态度',\n",
       " '球队',\n",
       " '当天',\n",
       " '下午',\n",
       " '例行',\n",
       " '训练',\n",
       " '25',\n",
       " '分钟',\n",
       " '过去',\n",
       " '天气',\n",
       " '没有',\n",
       " '转好',\n",
       " '迹象',\n",
       " '保护',\n",
       " '球员',\n",
       " '国奥队',\n",
       " '决定',\n",
       " '中止',\n",
       " '当天',\n",
       " '训练',\n",
       " '全队',\n",
       " '立即',\n",
       " '返回',\n",
       " '酒店',\n",
       " '雨',\n",
       " '中',\n",
       " '训练',\n",
       " '足球队',\n",
       " '来说',\n",
       " '不是',\n",
       " '稀罕',\n",
       " '事',\n",
       " '奥运会',\n",
       " '即将',\n",
       " '之前',\n",
       " '全队',\n",
       " '变得',\n",
       " '娇贵',\n",
       " '沈阳',\n",
       " '最后',\n",
       " '一周',\n",
       " '训练',\n",
       " '国奥队',\n",
       " '保证',\n",
       " '现有',\n",
       " '球员',\n",
       " '不再',\n",
       " '出现意外',\n",
       " '伤病',\n",
       " '情况',\n",
       " '影响',\n",
       " '正式',\n",
       " '比赛',\n",
       " '这一',\n",
       " '阶段',\n",
       " '控制',\n",
       " '训练',\n",
       " '受伤',\n",
       " '控制',\n",
       " '感冒',\n",
       " '疾病',\n",
       " '出现',\n",
       " '队伍',\n",
       " '放在',\n",
       " '相当',\n",
       " '重要',\n",
       " '位置',\n",
       " '抵达',\n",
       " '沈阳',\n",
       " '之后',\n",
       " '中',\n",
       " '后卫',\n",
       " '冯萧霆',\n",
       " '一直',\n",
       " '没有',\n",
       " '训练',\n",
       " '冯萧霆',\n",
       " '7',\n",
       " '月',\n",
       " '27',\n",
       " '日',\n",
       " '长春',\n",
       " '患上',\n",
       " '感冒',\n",
       " '没有',\n",
       " '参加',\n",
       " '29',\n",
       " '日',\n",
       " '塞尔维亚',\n",
       " '热身赛',\n",
       " '队伍',\n",
       " '介绍',\n",
       " '说',\n",
       " '冯萧霆',\n",
       " '没有',\n",
       " '出现',\n",
       " '发烧',\n",
       " '症状',\n",
       " '安全',\n",
       " '见',\n",
       " '两天',\n",
       " '静养',\n",
       " '休息',\n",
       " '感冒',\n",
       " '彻底',\n",
       " '好',\n",
       " '之后',\n",
       " '再',\n",
       " '恢复',\n",
       " '训练',\n",
       " '冯萧霆',\n",
       " '例子',\n",
       " '国奥队',\n",
       " '对雨中',\n",
       " '训练',\n",
       " '显得',\n",
       " '特别',\n",
       " '谨慎',\n",
       " '主要',\n",
       " '担心',\n",
       " '球员',\n",
       " '受凉',\n",
       " '引发',\n",
       " '感冒',\n",
       " '造成',\n",
       " '非战斗',\n",
       " '减员',\n",
       " '女足',\n",
       " '队员',\n",
       " '马晓旭',\n",
       " '热身赛',\n",
       " '中',\n",
       " '受伤',\n",
       " '导致',\n",
       " '无缘',\n",
       " '奥运',\n",
       " '前科',\n",
       " '沈阳',\n",
       " '国奥队',\n",
       " '现在',\n",
       " '格外',\n",
       " '警惕',\n",
       " '训练',\n",
       " '中',\n",
       " '不断',\n",
       " '嘱咐',\n",
       " '队员',\n",
       " '注意',\n",
       " '动作',\n",
       " '不能',\n",
       " '再出',\n",
       " '事情',\n",
       " '一位',\n",
       " '工作人员',\n",
       " '表示',\n",
       " '长春',\n",
       " '沈阳',\n",
       " '雨水',\n",
       " '一路',\n",
       " '伴随',\n",
       " '国奥队',\n",
       " '邪',\n",
       " '走',\n",
       " '雨',\n",
       " '下',\n",
       " '长春',\n",
       " '几次',\n",
       " '训练',\n",
       " '都',\n",
       " '大雨',\n",
       " '搅和',\n",
       " '没想到',\n",
       " '沈阳',\n",
       " '碰到',\n",
       " '这种',\n",
       " '事情',\n",
       " '一位',\n",
       " '国奥',\n",
       " '球员',\n",
       " '雨水',\n",
       " '青睐',\n",
       " '不解']"
      ]
     },
     "execution_count": 8,
     "metadata": {},
     "output_type": "execute_result"
    }
   ],
   "source": [
    "train.tokens.values[0]"
   ]
  },
  {
   "cell_type": "code",
   "execution_count": null,
   "id": "dabf769c",
   "metadata": {},
   "outputs": [],
   "source": []
  },
  {
   "cell_type": "code",
   "execution_count": 9,
   "id": "7fc052f5",
   "metadata": {},
   "outputs": [
    {
     "name": "stderr",
     "output_type": "stream",
     "text": [
      "f:\\python\\python37\\lib\\site-packages\\sklearn\\feature_extraction\\text.py:517: UserWarning: The parameter 'token_pattern' will not be used since 'tokenizer' is not None'\n",
      "  \"The parameter 'token_pattern' will not be used\"\n"
     ]
    }
   ],
   "source": [
    "N = 1024\n",
    "tfidf_model = TfidfVectorizer(tokenizer=identity_tokenizer, stop_words=None, lowercase=False, max_features=N) \n",
    "tfidf_model.fit(train.tokens)\n",
    "tfidf_id_to_tokens = {v: k for k, v in tfidf_model.vocabulary_.items()}"
   ]
  },
  {
   "cell_type": "code",
   "execution_count": 10,
   "id": "ba8b306a",
   "metadata": {},
   "outputs": [
    {
     "name": "stdout",
     "output_type": "stream",
     "text": [
      "['马晓旭', '意外', '受伤', '国奥', '警惕', '无奈', '大雨', '格外', '青睐', '殷家', '军', '记者', '傅亚雨', '沈阳', '报道', '来到', '沈阳', '国奥队', '依然', '没有', '摆脱', '雨水', '困扰', '7', '月', '31', '日', '下午', '6', '点', '国奥队', '日常', '训练', '再度', '受到', '大雨', '干扰', '无奈', '之下', '队员', '只', '慢跑', '25', '分钟', '草草收场', '31', '日', '上午', '10', '点', '国奥队', '奥体中心', '外场', '训练', '天', '阴沉沉', '气象预报', '显示', '当天', '下午', '沈阳', '大雨', '幸好', '队伍', '上午', '训练', '没有', '受到', '干扰', '下午', '6', '点', '球队', '抵达', '训练场', '时', '大雨', '已经', '下', '几个', '小时', '丝毫', '没有', '停下来', '意思', '抱', '试一试', '态度', '球队', '当天', '下午', '例行', '训练', '25', '分钟', '过去', '天气', '没有', '转好', '迹象', '保护', '球员', '国奥队', '决定', '中止', '当天', '训练', '全队', '立即', '返回', '酒店', '雨', '中', '训练', '足球队', '来说', '不是', '稀罕', '事', '奥运会', '即将', '之前', '全队', '变得', '娇贵', '沈阳', '最后', '一周', '训练', '国奥队', '保证', '现有', '球员', '不再', '出现意外', '伤病', '情况', '影响', '正式', '比赛', '这一', '阶段', '控制', '训练', '受伤', '控制', '感冒', '疾病', '出现', '队伍', '放在', '相当', '重要', '位置', '抵达', '沈阳', '之后', '中', '后卫', '冯萧霆', '一直', '没有', '训练', '冯萧霆', '7', '月', '27', '日', '长春', '患上', '感冒', '没有', '参加', '29', '日', '塞尔维亚', '热身赛', '队伍', '介绍', '说', '冯萧霆', '没有', '出现', '发烧', '症状', '安全', '见', '两天', '静养', '休息', '感冒', '彻底', '好', '之后', '再', '恢复', '训练', '冯萧霆', '例子', '国奥队', '对雨中', '训练', '显得', '特别', '谨慎', '主要', '担心', '球员', '受凉', '引发', '感冒', '造成', '非战斗', '减员', '女足', '队员', '马晓旭', '热身赛', '中', '受伤', '导致', '无缘', '奥运', '前科', '沈阳', '国奥队', '现在', '格外', '警惕', '训练', '中', '不断', '嘱咐', '队员', '注意', '动作', '不能', '再出', '事情', '一位', '工作人员', '表示', '长春', '沈阳', '雨水', '一路', '伴随', '国奥队', '邪', '走', '雨', '下', '长春', '几次', '训练', '都', '大雨', '搅和', '没想到', '沈阳', '碰到', '这种', '事情', '一位', '国奥', '球员', '雨水', '青睐', '不解']\n"
     ]
    }
   ],
   "source": [
    "tokens = train.tokens.values[0]\n",
    "print(tokens)"
   ]
  },
  {
   "cell_type": "code",
   "execution_count": 11,
   "id": "b1e90f01",
   "metadata": {},
   "outputs": [],
   "source": [
    "def build_weighted_feature(tokens):\n",
    "    tfidf_feature = tfidf_model.transform([tokens])\n",
    "    tfidf_feature = dict(tfidf_feature.todok().items())\n",
    "    tfidf_feature = {k[1]: v for k, v in tfidf_feature.items()}\n",
    "    \n",
    "    feature = np.zeros(VEC_SIZE)\n",
    "    d = 0\n",
    "    # 对于每一个词\n",
    "    for token_id, tfidf_weight in tfidf_feature.items():\n",
    "        # 该词必须要有词向量，如果没有就跳过该词\n",
    "        token = tfidf_id_to_tokens[token_id]\n",
    "        if token not in w2v_model.wv:\n",
    "            continue\n",
    "        vector = w2v_model.wv[token]\n",
    "        feature += tfidf_weight * vector\n",
    "        d += tfidf_weight\n",
    "    if d:\n",
    "        feature /= d\n",
    "    return feature"
   ]
  },
  {
   "cell_type": "code",
   "execution_count": 12,
   "id": "309ae589",
   "metadata": {},
   "outputs": [],
   "source": [
    "def build_baseline_feature(tokens):\n",
    "    feature = np.zeros(VEC_SIZE)\n",
    "    n = 0\n",
    "    for token in tokens:\n",
    "        if token in w2v_model.wv:\n",
    "            feature += w2v_model.wv[token]\n",
    "            n += 1\n",
    "    if n:\n",
    "        feature /= n\n",
    "    return feature"
   ]
  },
  {
   "cell_type": "code",
   "execution_count": 13,
   "id": "ed92d1e6",
   "metadata": {},
   "outputs": [],
   "source": [
    "train['baseline_feature'] = train.tokens.apply(build_baseline_feature)\n",
    "test['baseline_feature'] = test.tokens.apply(build_baseline_feature)\n",
    "\n",
    "train['weighted_feature'] = train.tokens.apply(build_weighted_feature)\n",
    "test['weighted_feature'] = test.tokens.apply(build_weighted_feature)"
   ]
  },
  {
   "cell_type": "code",
   "execution_count": 14,
   "id": "5eef560a",
   "metadata": {},
   "outputs": [],
   "source": [
    "train_features = tfidf_model.fit_transform(train.tokens).toarray()\n",
    "test_features = tfidf_model.transform(test.tokens).toarray()"
   ]
  },
  {
   "cell_type": "code",
   "execution_count": 15,
   "id": "a9c16166",
   "metadata": {},
   "outputs": [],
   "source": [
    "y_train = train.label.values\n",
    "y_test = test.label.values"
   ]
  },
  {
   "cell_type": "code",
   "execution_count": null,
   "id": "8384121f",
   "metadata": {},
   "outputs": [],
   "source": []
  },
  {
   "cell_type": "code",
   "execution_count": null,
   "id": "9a4a44a3",
   "metadata": {},
   "outputs": [],
   "source": []
  },
  {
   "cell_type": "code",
   "execution_count": 16,
   "id": "6a5b2c58",
   "metadata": {},
   "outputs": [],
   "source": [
    "indices = defaultdict(list)\n",
    "for index, label in enumerate(y_train):\n",
    "    indices[label].append(index)\n",
    "    \n",
    "n = 10\n",
    "selected_indices = []\n",
    "for label, label_indices in indices.items():\n",
    "    selected_indices.extend(np.random.choice(label_indices, n, replace=False))"
   ]
  },
  {
   "cell_type": "code",
   "execution_count": 17,
   "id": "e49d8145",
   "metadata": {},
   "outputs": [
    {
     "data": {
      "text/plain": [
       "100"
      ]
     },
     "execution_count": 17,
     "metadata": {},
     "output_type": "execute_result"
    }
   ],
   "source": [
    "len(selected_indices)"
   ]
  },
  {
   "cell_type": "markdown",
   "id": "9e531769",
   "metadata": {},
   "source": [
    "baseline word2vec特征，小样本结果"
   ]
  },
  {
   "cell_type": "code",
   "execution_count": 18,
   "id": "31806d88",
   "metadata": {},
   "outputs": [],
   "source": [
    "feature = 'baseline_feature'"
   ]
  },
  {
   "cell_type": "code",
   "execution_count": 35,
   "id": "0419f45f",
   "metadata": {},
   "outputs": [],
   "source": [
    "X_train = np.vstack(train[feature].values)\n",
    "X_test = np.vstack(test[feature].values)"
   ]
  },
  {
   "cell_type": "code",
   "execution_count": 37,
   "id": "a0cb96a7",
   "metadata": {},
   "outputs": [
    {
     "name": "stdout",
     "output_type": "stream",
     "text": [
      "              precision    recall  f1-score   support\n",
      "\n",
      "          体育       0.91      0.98      0.94      1000\n",
      "          娱乐       0.85      0.93      0.89      1000\n",
      "          家居       0.76      0.30      0.44      1000\n",
      "          房产       0.63      0.77      0.69      1000\n",
      "          教育       0.96      0.70      0.81      1000\n",
      "          时尚       0.80      0.91      0.85      1000\n",
      "          时政       0.86      0.81      0.83      1000\n",
      "          游戏       0.77      0.85      0.81      1000\n",
      "          科技       0.73      0.72      0.72      1000\n",
      "          财经       0.73      0.96      0.83      1000\n",
      "\n",
      "    accuracy                           0.79     10000\n",
      "   macro avg       0.80      0.79      0.78     10000\n",
      "weighted avg       0.80      0.79      0.78     10000\n",
      "\n"
     ]
    }
   ],
   "source": [
    "model = LogisticRegression(max_iter=500)\n",
    "model.fit(X_train[selected_indices], y_train[selected_indices])\n",
    "y_test_pred = model.predict(X_test)\n",
    "print(metrics.classification_report(y_test, y_test_pred))"
   ]
  },
  {
   "cell_type": "markdown",
   "id": "0528ee24",
   "metadata": {},
   "source": [
    "baseline tfidf特征，小样本结果"
   ]
  },
  {
   "cell_type": "code",
   "execution_count": 38,
   "id": "0d413ecf",
   "metadata": {},
   "outputs": [
    {
     "data": {
      "text/plain": [
       "1024"
      ]
     },
     "execution_count": 38,
     "metadata": {},
     "output_type": "execute_result"
    }
   ],
   "source": [
    "len(tfidf_model.vocabulary_)"
   ]
  },
  {
   "cell_type": "code",
   "execution_count": 39,
   "id": "c3bb60a9",
   "metadata": {},
   "outputs": [
    {
     "name": "stdout",
     "output_type": "stream",
     "text": [
      "              precision    recall  f1-score   support\n",
      "\n",
      "          体育       0.95      0.98      0.97      1000\n",
      "          娱乐       0.92      0.88      0.90      1000\n",
      "          家居       0.58      0.44      0.50      1000\n",
      "          房产       0.70      0.80      0.74      1000\n",
      "          教育       0.94      0.75      0.83      1000\n",
      "          时尚       0.69      0.91      0.79      1000\n",
      "          时政       0.81      0.81      0.81      1000\n",
      "          游戏       0.90      0.85      0.88      1000\n",
      "          科技       0.69      0.65      0.67      1000\n",
      "          财经       0.88      0.98      0.93      1000\n",
      "\n",
      "    accuracy                           0.80     10000\n",
      "   macro avg       0.81      0.80      0.80     10000\n",
      "weighted avg       0.81      0.80      0.80     10000\n",
      "\n"
     ]
    }
   ],
   "source": [
    "model = LogisticRegression()\n",
    "model.fit(train_features[selected_indices], y_train[selected_indices])\n",
    "y_test_pred = model.predict(test_features)\n",
    "print(metrics.classification_report(y_test, y_test_pred))"
   ]
  },
  {
   "cell_type": "markdown",
   "id": "732ff901",
   "metadata": {},
   "source": [
    "加权特征，小样本结果"
   ]
  },
  {
   "cell_type": "code",
   "execution_count": 40,
   "id": "a9bf3a02",
   "metadata": {},
   "outputs": [],
   "source": [
    "feature = 'weighted_feature'\n",
    "X_train = np.vstack(train[feature].values)\n",
    "X_test = np.vstack(test[feature].values)"
   ]
  },
  {
   "cell_type": "code",
   "execution_count": 44,
   "id": "59fc7876",
   "metadata": {},
   "outputs": [
    {
     "name": "stderr",
     "output_type": "stream",
     "text": [
      "f:\\python\\python37\\lib\\site-packages\\sklearn\\linear_model\\_logistic.py:818: ConvergenceWarning: lbfgs failed to converge (status=1):\n",
      "STOP: TOTAL NO. of ITERATIONS REACHED LIMIT.\n",
      "\n",
      "Increase the number of iterations (max_iter) or scale the data as shown in:\n",
      "    https://scikit-learn.org/stable/modules/preprocessing.html\n",
      "Please also refer to the documentation for alternative solver options:\n",
      "    https://scikit-learn.org/stable/modules/linear_model.html#logistic-regression\n",
      "  extra_warning_msg=_LOGISTIC_SOLVER_CONVERGENCE_MSG,\n"
     ]
    },
    {
     "name": "stdout",
     "output_type": "stream",
     "text": [
      "              precision    recall  f1-score   support\n",
      "\n",
      "          体育       0.91      0.98      0.94      1000\n",
      "          娱乐       0.85      0.93      0.89      1000\n",
      "          家居       0.76      0.30      0.44      1000\n",
      "          房产       0.63      0.77      0.69      1000\n",
      "          教育       0.96      0.70      0.81      1000\n",
      "          时尚       0.80      0.91      0.85      1000\n",
      "          时政       0.86      0.81      0.83      1000\n",
      "          游戏       0.77      0.85      0.81      1000\n",
      "          科技       0.73      0.72      0.72      1000\n",
      "          财经       0.73      0.96      0.83      1000\n",
      "\n",
      "    accuracy                           0.79     10000\n",
      "   macro avg       0.80      0.79      0.78     10000\n",
      "weighted avg       0.80      0.79      0.78     10000\n",
      "\n"
     ]
    }
   ],
   "source": [
    "model = LogisticRegression(max_iter=100)\n",
    "model.fit(X_train[selected_indices], y_train[selected_indices])\n",
    "y_test_pred = model.predict(X_test)\n",
    "print(metrics.classification_report(y_test, y_test_pred))"
   ]
  },
  {
   "cell_type": "markdown",
   "id": "cfa2d8a5",
   "metadata": {},
   "source": [
    "https://www.heywhale.com/mw/dataset/5de4b6d0ca27f8002c4c530a"
   ]
  },
  {
   "cell_type": "code",
   "execution_count": null,
   "id": "590e260a",
   "metadata": {},
   "outputs": [],
   "source": []
  },
  {
   "cell_type": "code",
   "execution_count": null,
   "id": "c0a59325",
   "metadata": {},
   "outputs": [],
   "source": []
  },
  {
   "cell_type": "code",
   "execution_count": null,
   "id": "d1917660",
   "metadata": {},
   "outputs": [],
   "source": []
  },
  {
   "cell_type": "code",
   "execution_count": 58,
   "id": "df0f8ccb",
   "metadata": {},
   "outputs": [
    {
     "name": "stderr",
     "output_type": "stream",
     "text": [
      "f:\\python\\python37\\lib\\site-packages\\sklearn\\linear_model\\_logistic.py:818: ConvergenceWarning: lbfgs failed to converge (status=1):\n",
      "STOP: TOTAL NO. of ITERATIONS REACHED LIMIT.\n",
      "\n",
      "Increase the number of iterations (max_iter) or scale the data as shown in:\n",
      "    https://scikit-learn.org/stable/modules/preprocessing.html\n",
      "Please also refer to the documentation for alternative solver options:\n",
      "    https://scikit-learn.org/stable/modules/linear_model.html#logistic-regression\n",
      "  extra_warning_msg=_LOGISTIC_SOLVER_CONVERGENCE_MSG,\n"
     ]
    },
    {
     "name": "stdout",
     "output_type": "stream",
     "text": [
      "              precision    recall  f1-score   support\n",
      "\n",
      "          体育       0.81      0.94      0.87      1000\n",
      "          娱乐       0.75      0.83      0.79      1000\n",
      "          家居       0.53      0.13      0.20      1000\n",
      "          房产       0.56      0.69      0.62      1000\n",
      "          教育       0.80      0.66      0.72      1000\n",
      "          时尚       0.58      0.74      0.65      1000\n",
      "          时政       0.67      0.76      0.71      1000\n",
      "          游戏       0.64      0.59      0.62      1000\n",
      "          科技       0.16      0.09      0.12      1000\n",
      "          财经       0.61      0.93      0.74      1000\n",
      "\n",
      "    accuracy                           0.64     10000\n",
      "   macro avg       0.61      0.64      0.60     10000\n",
      "weighted avg       0.61      0.64      0.60     10000\n",
      "\n"
     ]
    }
   ],
   "source": [
    "model = LogisticRegression()\n",
    "model.fit(X_train[selected_indices], y_train[selected_indices])\n",
    "y_test_pred = model.predict(X_test)\n",
    "print(metrics.classification_report(y_test, y_test_pred))"
   ]
  },
  {
   "cell_type": "code",
   "execution_count": null,
   "id": "da0b665b",
   "metadata": {},
   "outputs": [],
   "source": []
  },
  {
   "cell_type": "code",
   "execution_count": null,
   "id": "6356b0b0",
   "metadata": {},
   "outputs": [],
   "source": []
  },
  {
   "cell_type": "code",
   "execution_count": null,
   "id": "3361a722",
   "metadata": {},
   "outputs": [],
   "source": []
  },
  {
   "cell_type": "code",
   "execution_count": null,
   "id": "e4296c0a",
   "metadata": {},
   "outputs": [],
   "source": []
  },
  {
   "cell_type": "code",
   "execution_count": null,
   "id": "8e9413e4",
   "metadata": {},
   "outputs": [],
   "source": []
  },
  {
   "cell_type": "code",
   "execution_count": null,
   "id": "17573581",
   "metadata": {},
   "outputs": [],
   "source": []
  },
  {
   "cell_type": "code",
   "execution_count": null,
   "id": "616100e9",
   "metadata": {},
   "outputs": [],
   "source": []
  },
  {
   "cell_type": "code",
   "execution_count": null,
   "id": "5f1b8b30",
   "metadata": {},
   "outputs": [],
   "source": []
  },
  {
   "cell_type": "code",
   "execution_count": 197,
   "id": "ca73a8ac",
   "metadata": {},
   "outputs": [],
   "source": [
    "test['feature'] = test.tokens.apply(to_feature)\n",
    "X_test = np.vstack(test.feature.values)"
   ]
  },
  {
   "cell_type": "code",
   "execution_count": 205,
   "id": "f49b0919",
   "metadata": {},
   "outputs": [],
   "source": []
  },
  {
   "cell_type": "code",
   "execution_count": null,
   "id": "ba9168d1",
   "metadata": {},
   "outputs": [],
   "source": []
  },
  {
   "cell_type": "code",
   "execution_count": 208,
   "id": "b3a20ffc",
   "metadata": {},
   "outputs": [],
   "source": []
  },
  {
   "cell_type": "code",
   "execution_count": 212,
   "id": "9402c957",
   "metadata": {},
   "outputs": [],
   "source": []
  },
  {
   "cell_type": "code",
   "execution_count": 221,
   "id": "3d425507",
   "metadata": {},
   "outputs": [],
   "source": [
    "n = 100\n",
    "selected_indices = []\n",
    "for label, label_indices in indices.items():\n",
    "    selected_indices.extend(np.random.choice(label_indices, n, replace=False))"
   ]
  },
  {
   "cell_type": "code",
   "execution_count": 222,
   "id": "f4b3f19a",
   "metadata": {},
   "outputs": [
    {
     "name": "stderr",
     "output_type": "stream",
     "text": [
      "f:\\python\\python37\\lib\\site-packages\\sklearn\\linear_model\\_logistic.py:818: ConvergenceWarning: lbfgs failed to converge (status=1):\n",
      "STOP: TOTAL NO. of ITERATIONS REACHED LIMIT.\n",
      "\n",
      "Increase the number of iterations (max_iter) or scale the data as shown in:\n",
      "    https://scikit-learn.org/stable/modules/preprocessing.html\n",
      "Please also refer to the documentation for alternative solver options:\n",
      "    https://scikit-learn.org/stable/modules/linear_model.html#logistic-regression\n",
      "  extra_warning_msg=_LOGISTIC_SOLVER_CONVERGENCE_MSG,\n"
     ]
    },
    {
     "data": {
      "text/plain": [
       "LogisticRegression()"
      ]
     },
     "execution_count": 222,
     "metadata": {},
     "output_type": "execute_result"
    }
   ],
   "source": [
    "model = LogisticRegression()\n",
    "model.fit(X_train[selected_indices], y_train[selected_indices])"
   ]
  },
  {
   "cell_type": "code",
   "execution_count": 223,
   "id": "8b599471",
   "metadata": {},
   "outputs": [
    {
     "name": "stdout",
     "output_type": "stream",
     "text": [
      "              precision    recall  f1-score   support\n",
      "\n",
      "          体育       0.78      0.74      0.76      1000\n",
      "          娱乐       0.71      0.64      0.67      1000\n",
      "          家居       0.43      0.08      0.13      1000\n",
      "          房产       0.42      0.48      0.45      1000\n",
      "          教育       0.40      0.50      0.44      1000\n",
      "          时尚       0.73      0.71      0.72      1000\n",
      "          时政       0.54      0.56      0.55      1000\n",
      "          游戏       0.45      0.54      0.49      1000\n",
      "          科技       0.61      0.71      0.65      1000\n",
      "          财经       0.44      0.53      0.48      1000\n",
      "\n",
      "    accuracy                           0.55     10000\n",
      "   macro avg       0.55      0.55      0.53     10000\n",
      "weighted avg       0.55      0.55      0.53     10000\n",
      "\n"
     ]
    }
   ],
   "source": [
    "y_test_pred = model.predict(X_test)\n",
    "print(metrics.classification_report(y_test, y_test_pred))"
   ]
  },
  {
   "cell_type": "code",
   "execution_count": null,
   "id": "6ab10d65",
   "metadata": {},
   "outputs": [],
   "source": []
  },
  {
   "cell_type": "code",
   "execution_count": null,
   "id": "ca0dfc99",
   "metadata": {},
   "outputs": [],
   "source": []
  },
  {
   "cell_type": "code",
   "execution_count": null,
   "id": "364bc56c",
   "metadata": {},
   "outputs": [],
   "source": []
  },
  {
   "cell_type": "code",
   "execution_count": null,
   "id": "63338851",
   "metadata": {},
   "outputs": [],
   "source": []
  },
  {
   "cell_type": "code",
   "execution_count": 151,
   "id": "240617c3",
   "metadata": {},
   "outputs": [
    {
     "name": "stdout",
     "output_type": "stream",
     "text": [
      "              precision    recall  f1-score   support\n",
      "\n",
      "          体育       0.82      0.85      0.84      1000\n",
      "          娱乐       0.77      0.79      0.78      1000\n",
      "          家居       0.56      0.16      0.24      1000\n",
      "          房产       0.53      0.60      0.56      1000\n",
      "          教育       0.50      0.56      0.53      1000\n",
      "          时尚       0.77      0.85      0.80      1000\n",
      "          时政       0.64      0.67      0.65      1000\n",
      "          游戏       0.58      0.60      0.59      1000\n",
      "          科技       0.71      0.75      0.73      1000\n",
      "          财经       0.62      0.73      0.67      1000\n",
      "\n",
      "    accuracy                           0.66     10000\n",
      "   macro avg       0.65      0.66      0.64     10000\n",
      "weighted avg       0.65      0.66      0.64     10000\n",
      "\n"
     ]
    }
   ],
   "source": [
    "y_test_pred = model.predict(X_test)\n",
    "print(metrics.classification_report(y_test, y_test_pred))"
   ]
  },
  {
   "cell_type": "code",
   "execution_count": null,
   "id": "0e7d1fdf",
   "metadata": {},
   "outputs": [],
   "source": []
  },
  {
   "cell_type": "code",
   "execution_count": null,
   "id": "261563f9",
   "metadata": {},
   "outputs": [],
   "source": []
  },
  {
   "cell_type": "code",
   "execution_count": null,
   "id": "b88a5750",
   "metadata": {},
   "outputs": [],
   "source": []
  },
  {
   "cell_type": "code",
   "execution_count": null,
   "id": "86d26ad3",
   "metadata": {},
   "outputs": [],
   "source": []
  },
  {
   "cell_type": "code",
   "execution_count": null,
   "id": "b04e34b0",
   "metadata": {},
   "outputs": [],
   "source": []
  },
  {
   "cell_type": "code",
   "execution_count": null,
   "id": "17b3811d",
   "metadata": {},
   "outputs": [],
   "source": []
  },
  {
   "cell_type": "code",
   "execution_count": null,
   "id": "542b53bb",
   "metadata": {},
   "outputs": [],
   "source": []
  },
  {
   "cell_type": "code",
   "execution_count": null,
   "id": "3f9f5df2",
   "metadata": {},
   "outputs": [],
   "source": []
  }
 ],
 "metadata": {
  "kernelspec": {
   "display_name": "Python 3",
   "language": "python",
   "name": "python3"
  },
  "language_info": {
   "codemirror_mode": {
    "name": "ipython",
    "version": 3
   },
   "file_extension": ".py",
   "mimetype": "text/x-python",
   "name": "python",
   "nbconvert_exporter": "python",
   "pygments_lexer": "ipython3",
   "version": "3.7.8"
  }
 },
 "nbformat": 4,
 "nbformat_minor": 5
}
