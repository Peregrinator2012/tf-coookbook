{
 "cells": [
  {
   "cell_type": "code",
   "execution_count": 1,
   "id": "3bcac185",
   "metadata": {},
   "outputs": [
    {
     "name": "stderr",
     "output_type": "stream",
     "text": [
      "f:\\python\\python37\\lib\\site-packages\\gensim\\similarities\\__init__.py:15: UserWarning: The gensim.similarities.levenshtein submodule is disabled, because the optional Levenshtein package <https://pypi.org/project/python-Levenshtein/> is unavailable. Install Levenhstein (e.g. `pip install python-Levenshtein`) to suppress this warning.\n",
      "  warnings.warn(msg)\n"
     ]
    }
   ],
   "source": [
    "import re\n",
    "import os\n",
    "import pandas as pd\n",
    "import numpy as np\n",
    "import string\n",
    "import matplotlib.pyplot as plt\n",
    "from sklearn import metrics\n",
    "import jieba\n",
    "from collections import Counter, defaultdict\n",
    "from sklearn.feature_extraction.text import TfidfVectorizer, CountVectorizer\n",
    "\n",
    "from sklearn.linear_model import LogisticRegression\n",
    "from sklearn import metrics\n",
    "from gensim.models import Word2Vec\n",
    "from sklearn.tree import DecisionTreeClassifier\n",
    "from tqdm.notebook import tqdm"
   ]
  },
  {
   "cell_type": "code",
   "execution_count": 2,
   "id": "8fd981e3",
   "metadata": {},
   "outputs": [],
   "source": [
    "# display the chinese character\n",
    "plt.rcParams['font.sans-serif']=['SimHei'] \n",
    "plt.rcParams['axes.unicode_minus']=False "
   ]
  },
  {
   "cell_type": "code",
   "execution_count": 3,
   "id": "4b24bf2f",
   "metadata": {},
   "outputs": [],
   "source": [
    "train = pd.read_csv('./cache/train.csv', index_col=0)\n",
    "test = pd.read_csv('./cache/test.csv', index_col=0)"
   ]
  },
  {
   "cell_type": "code",
   "execution_count": 4,
   "id": "ea84aaf1",
   "metadata": {},
   "outputs": [],
   "source": [
    "train.tokens = train.tokens.apply(eval)\n",
    "test.tokens = test.tokens.apply(eval)"
   ]
  },
  {
   "cell_type": "code",
   "execution_count": 5,
   "id": "6ab0740d",
   "metadata": {},
   "outputs": [
    {
     "data": {
      "text/html": [
       "<div>\n",
       "<style scoped>\n",
       "    .dataframe tbody tr th:only-of-type {\n",
       "        vertical-align: middle;\n",
       "    }\n",
       "\n",
       "    .dataframe tbody tr th {\n",
       "        vertical-align: top;\n",
       "    }\n",
       "\n",
       "    .dataframe thead th {\n",
       "        text-align: right;\n",
       "    }\n",
       "</style>\n",
       "<table border=\"1\" class=\"dataframe\">\n",
       "  <thead>\n",
       "    <tr style=\"text-align: right;\">\n",
       "      <th></th>\n",
       "      <th>content</th>\n",
       "      <th>label</th>\n",
       "      <th>tokens</th>\n",
       "    </tr>\n",
       "  </thead>\n",
       "  <tbody>\n",
       "    <tr>\n",
       "      <th>0</th>\n",
       "      <td>马晓旭意外受伤让国奥警惕 无奈大雨格外青睐殷家军记者傅亚雨沈阳报道 来到沈阳，国奥队依然没有...</td>\n",
       "      <td>体育</td>\n",
       "      <td>[马晓旭, 意外, 受伤, 国奥, 警惕, 无奈, 大雨, 格外, 青睐, 殷家, 军, 记...</td>\n",
       "    </tr>\n",
       "    <tr>\n",
       "      <th>1</th>\n",
       "      <td>商瑞华首战复仇心切 中国玫瑰要用美国方式攻克瑞典多曼来了，瑞典来了，商瑞华首战求3分的信心也...</td>\n",
       "      <td>体育</td>\n",
       "      <td>[商瑞华, 首战, 复仇, 心切, 中国, 玫瑰, 美国, 方式, 攻克, 瑞典, 多曼来,...</td>\n",
       "    </tr>\n",
       "    <tr>\n",
       "      <th>2</th>\n",
       "      <td>冠军球队迎新欢乐派对 黄旭获大奖张军赢下PK赛新浪体育讯12月27日晚，“冠军高尔夫球队迎新...</td>\n",
       "      <td>体育</td>\n",
       "      <td>[冠军, 球队, 迎新, 欢乐, 派对, 黄旭获, 大奖, 张军, 赢, 下, PK, 赛,...</td>\n",
       "    </tr>\n",
       "  </tbody>\n",
       "</table>\n",
       "</div>"
      ],
      "text/plain": [
       "                                             content label  \\\n",
       "0  马晓旭意外受伤让国奥警惕 无奈大雨格外青睐殷家军记者傅亚雨沈阳报道 来到沈阳，国奥队依然没有...    体育   \n",
       "1  商瑞华首战复仇心切 中国玫瑰要用美国方式攻克瑞典多曼来了，瑞典来了，商瑞华首战求3分的信心也...    体育   \n",
       "2  冠军球队迎新欢乐派对 黄旭获大奖张军赢下PK赛新浪体育讯12月27日晚，“冠军高尔夫球队迎新...    体育   \n",
       "\n",
       "                                              tokens  \n",
       "0  [马晓旭, 意外, 受伤, 国奥, 警惕, 无奈, 大雨, 格外, 青睐, 殷家, 军, 记...  \n",
       "1  [商瑞华, 首战, 复仇, 心切, 中国, 玫瑰, 美国, 方式, 攻克, 瑞典, 多曼来,...  \n",
       "2  [冠军, 球队, 迎新, 欢乐, 派对, 黄旭获, 大奖, 张军, 赢, 下, PK, 赛,...  "
      ]
     },
     "execution_count": 5,
     "metadata": {},
     "output_type": "execute_result"
    }
   ],
   "source": [
    "train.head(3)"
   ]
  },
  {
   "cell_type": "code",
   "execution_count": 6,
   "id": "370284a7",
   "metadata": {},
   "outputs": [
    {
     "data": {
      "text/plain": [
       "(50000, 3)"
      ]
     },
     "execution_count": 6,
     "metadata": {},
     "output_type": "execute_result"
    }
   ],
   "source": [
    "train.shape"
   ]
  },
  {
   "cell_type": "code",
   "execution_count": 7,
   "id": "ee30de19",
   "metadata": {},
   "outputs": [
    {
     "data": {
      "text/plain": [
       "(10000, 3)"
      ]
     },
     "execution_count": 7,
     "metadata": {},
     "output_type": "execute_result"
    }
   ],
   "source": [
    "test.shape"
   ]
  },
  {
   "cell_type": "code",
   "execution_count": 8,
   "id": "9f5f9c88",
   "metadata": {},
   "outputs": [],
   "source": [
    "# 词向量维度\n",
    "VEC_SIZE = 128"
   ]
  },
  {
   "cell_type": "code",
   "execution_count": 9,
   "id": "213e1b58",
   "metadata": {},
   "outputs": [],
   "source": [
    "w2v_model = Word2Vec(\n",
    "    train.tokens.values, \n",
    "    vector_size=VEC_SIZE, \n",
    "    min_count=3, \n",
    "    seed=1234\n",
    ")"
   ]
  },
  {
   "cell_type": "code",
   "execution_count": 9,
   "id": "7e91334f",
   "metadata": {},
   "outputs": [],
   "source": [
    "w2v_model = Word2Vec.load('./w2v.model')"
   ]
  },
  {
   "cell_type": "code",
   "execution_count": 10,
   "id": "ec04c0d3",
   "metadata": {},
   "outputs": [],
   "source": [
    "def average_feature(tokens):\n",
    "    feature = np.zeros(VEC_SIZE)\n",
    "    n = 0\n",
    "    for token in tokens:\n",
    "        if token in w2v_model.wv:\n",
    "            feature += w2v_model.wv[token]\n",
    "            n += 1\n",
    "    if n:\n",
    "        feature /= n\n",
    "    return feature"
   ]
  },
  {
   "cell_type": "code",
   "execution_count": 11,
   "id": "844eb849",
   "metadata": {},
   "outputs": [],
   "source": [
    "train['doc_vector'] = train.tokens.apply(average_feature)\n",
    "test['doc_vector'] = test.tokens.apply(average_feature)"
   ]
  },
  {
   "cell_type": "code",
   "execution_count": 12,
   "id": "a6b0935d",
   "metadata": {},
   "outputs": [],
   "source": [
    "w2v_model.save('./w2v.model')"
   ]
  },
  {
   "cell_type": "markdown",
   "id": "aae58c28",
   "metadata": {},
   "source": [
    "# Supervised: Word2Vec all training data"
   ]
  },
  {
   "cell_type": "code",
   "execution_count": 48,
   "id": "af8416f4",
   "metadata": {},
   "outputs": [],
   "source": [
    "X_train = np.vstack(train.doc_vector)\n",
    "y_train = train.label\n",
    "\n",
    "X_test = np.vstack(test.doc_vector)\n",
    "y_test = test.label"
   ]
  },
  {
   "cell_type": "code",
   "execution_count": 49,
   "id": "e3004670",
   "metadata": {},
   "outputs": [
    {
     "name": "stdout",
     "output_type": "stream",
     "text": [
      "              precision    recall  f1-score   support\n",
      "\n",
      "          体育     0.9891    0.9950    0.9920      1000\n",
      "          娱乐     0.9809    0.9750    0.9779      1000\n",
      "          家居     0.9442    0.7110    0.8112      1000\n",
      "          房产     0.8138    0.8700    0.8410      1000\n",
      "          教育     0.9345    0.8850    0.9091      1000\n",
      "          时尚     0.9016    0.9620    0.9308      1000\n",
      "          时政     0.9050    0.9430    0.9236      1000\n",
      "          游戏     0.9565    0.9670    0.9617      1000\n",
      "          科技     0.9226    0.9780    0.9495      1000\n",
      "          财经     0.9334    0.9810    0.9566      1000\n",
      "\n",
      "    accuracy                         0.9267     10000\n",
      "   macro avg     0.9282    0.9267    0.9253     10000\n",
      "weighted avg     0.9282    0.9267    0.9253     10000\n",
      "\n"
     ]
    }
   ],
   "source": [
    "model = LogisticRegression(max_iter=500)\n",
    "model.fit(X_train, y_train)\n",
    "\n",
    "y_test_pred = model.predict(X_test)\n",
    "print(metrics.classification_report(y_test, y_test_pred, digits=4))"
   ]
  },
  {
   "cell_type": "code",
   "execution_count": 50,
   "id": "ae7fca2d",
   "metadata": {},
   "outputs": [
    {
     "name": "stdout",
     "output_type": "stream",
     "text": [
      "              precision    recall  f1-score   support\n",
      "\n",
      "          体育     0.9949    0.9810    0.9879      1000\n",
      "          娱乐     0.9517    0.9650    0.9583      1000\n",
      "          家居     0.9054    0.4500    0.6012      1000\n",
      "          房产     0.6615    0.8460    0.7424      1000\n",
      "          教育     0.9155    0.8880    0.9015      1000\n",
      "          时尚     0.9130    0.9550    0.9335      1000\n",
      "          时政     0.8901    0.9310    0.9101      1000\n",
      "          游戏     0.8981    0.9610    0.9285      1000\n",
      "          科技     0.9388    0.9660    0.9522      1000\n",
      "          财经     0.9210    0.9790    0.9491      1000\n",
      "\n",
      "    accuracy                         0.8922     10000\n",
      "   macro avg     0.8990    0.8922    0.8865     10000\n",
      "weighted avg     0.8990    0.8922    0.8865     10000\n",
      "\n"
     ]
    }
   ],
   "source": [
    "model = RandomForestClassifier(n_estimators=50)\n",
    "model.fit(X_train, y_train)\n",
    "\n",
    "y_test_pred = model.predict(X_test)\n",
    "print(metrics.classification_report(y_test, y_test_pred, digits=4))"
   ]
  },
  {
   "cell_type": "code",
   "execution_count": 53,
   "id": "9456e70d",
   "metadata": {},
   "outputs": [],
   "source": [
    "from sklearn.tree import DecisionTreeClassifier"
   ]
  },
  {
   "cell_type": "code",
   "execution_count": 54,
   "id": "b3d046a2",
   "metadata": {},
   "outputs": [
    {
     "name": "stdout",
     "output_type": "stream",
     "text": [
      "              precision    recall  f1-score   support\n",
      "\n",
      "          体育     0.9318    0.9020    0.9167      1000\n",
      "          娱乐     0.9170    0.7950    0.8516      1000\n",
      "          家居     0.7101    0.1690    0.2730      1000\n",
      "          房产     0.5467    0.7900    0.6462      1000\n",
      "          教育     0.5861    0.7930    0.6740      1000\n",
      "          时尚     0.9089    0.8380    0.8720      1000\n",
      "          时政     0.7938    0.7930    0.7934      1000\n",
      "          游戏     0.8097    0.7190    0.7617      1000\n",
      "          科技     0.7134    0.9010    0.7963      1000\n",
      "          财经     0.8969    0.9480    0.9217      1000\n",
      "\n",
      "    accuracy                         0.7648     10000\n",
      "   macro avg     0.7814    0.7648    0.7507     10000\n",
      "weighted avg     0.7814    0.7648    0.7507     10000\n",
      "\n"
     ]
    }
   ],
   "source": [
    "model = DecisionTreeClassifier(max_depth=8)\n",
    "model.fit(X_train, y_train)\n",
    "\n",
    "y_test_pred = model.predict(X_test)\n",
    "print(metrics.classification_report(y_test, y_test_pred, digits=4))"
   ]
  },
  {
   "cell_type": "code",
   "execution_count": 63,
   "id": "51091fd8",
   "metadata": {},
   "outputs": [
    {
     "data": {
      "image/png": "[encoded data removed]",
      "text/plain": [
       "<Figure size 432x288 with 1 Axes>"
      ]
     },
     "metadata": {
      "needs_background": "light"
     },
     "output_type": "display_data"
    }
   ],
   "source": [
    "accs = [0.9267, 0.8922, 0.7648]\n",
    "models = ['LogisticRegression', 'RandomForest', 'DecisionTree']\n",
    "plt.bar(range(1, 4), accs, width=0.2)\n",
    "plt.xticks(range(1, 4), models)\n",
    "plt.show()"
   ]
  },
  {
   "cell_type": "code",
   "execution_count": null,
   "id": "9f7cfe4a",
   "metadata": {},
   "outputs": [],
   "source": []
  },
  {
   "cell_type": "code",
   "execution_count": null,
   "id": "1f1fb97f",
   "metadata": {},
   "outputs": [],
   "source": []
  },
  {
   "cell_type": "code",
   "execution_count": null,
   "id": "6270d7e5",
   "metadata": {},
   "outputs": [],
   "source": []
  },
  {
   "cell_type": "markdown",
   "id": "aaa88e44",
   "metadata": {},
   "source": [
    "# Supervised: Different train size"
   ]
  },
  {
   "cell_type": "markdown",
   "id": "d2a5b6db",
   "metadata": {},
   "source": [
    "Different size of training data"
   ]
  },
  {
   "cell_type": "code",
   "execution_count": 14,
   "id": "d2cb71ab",
   "metadata": {},
   "outputs": [],
   "source": [
    "def split_data(train, num_samples_per_class=20):\n",
    "    np.random.seed(1234)\n",
    "    \n",
    "    train_tiny = []\n",
    "    unlabeled = []\n",
    "    for label, group in train.groupby('label'):\n",
    "        sampled_group = group.sample(n=num_samples_per_class, replace=False)\n",
    "        train_tiny.append(sampled_group)\n",
    "        other_indices = set(group.index) - set(sampled_group.index)\n",
    "        unlabeled.append(group.loc[list(other_indices)])\n",
    "    train_tiny = pd.concat(train_tiny, axis=0)\n",
    "    unlabeled = pd.concat(unlabeled, axis=0)\n",
    "    return train_tiny, unlabeled"
   ]
  },
  {
   "cell_type": "code",
   "execution_count": 15,
   "id": "a647a13a",
   "metadata": {},
   "outputs": [],
   "source": [
    "def average_feature(w2v, tokens):\n",
    "    feature = np.zeros(VEC_SIZE)\n",
    "    n = 0\n",
    "    for token in tokens:\n",
    "        if token in w2v.wv:\n",
    "            feature += w2v.wv[token]\n",
    "            n += 1\n",
    "    if n:\n",
    "        feature /= n\n",
    "    return feature"
   ]
  },
  {
   "cell_type": "code",
   "execution_count": 16,
   "id": "65f4beb9",
   "metadata": {},
   "outputs": [],
   "source": [
    "def experiment_size(n):\n",
    "    train_tiny, unlabeled = split_data(train, num_samples_per_class=n)\n",
    "    w2v_model_small = Word2Vec(\n",
    "        train_tiny.tokens.values, \n",
    "        vector_size=VEC_SIZE, \n",
    "        min_count=3, \n",
    "        seed=1234\n",
    "    )\n",
    "    \n",
    "    train_tiny['doc_vector_small'] = train_tiny.tokens.apply(lambda tokens: average_feature(w2v_model_small, tokens))\n",
    "    test['doc_vector_small'] = test.tokens.apply(lambda tokens: average_feature(w2v_model_small, tokens))\n",
    "    \n",
    "    X_train = np.vstack(train_tiny.doc_vector_small)\n",
    "    y_train = train_tiny.label\n",
    "    print(X_train.shape)\n",
    "\n",
    "    X_test = np.vstack(test.doc_vector_small)\n",
    "    y_test = test.label\n",
    "    \n",
    "    model = LogisticRegression(max_iter=500)\n",
    "    model.fit(X_train, y_train)\n",
    "\n",
    "    y_test_pred = model.predict(X_test)\n",
    "    print(metrics.classification_report(y_test, y_test_pred, digits=4))"
   ]
  },
  {
   "cell_type": "code",
   "execution_count": 17,
   "id": "7244824c",
   "metadata": {},
   "outputs": [
    {
     "name": "stdout",
     "output_type": "stream",
     "text": [
      "(200, 128)\n",
      "              precision    recall  f1-score   support\n",
      "\n",
      "          体育     0.0964    0.0240    0.0384      1000\n",
      "          娱乐     0.0938    0.0120    0.0213      1000\n",
      "          家居     0.1333    0.0280    0.0463      1000\n",
      "          房产     0.1450    0.0390    0.0615      1000\n",
      "          教育     0.1477    0.9010    0.2537      1000\n",
      "          时尚     0.2453    0.4660    0.3214      1000\n",
      "          时政     0.1349    0.0530    0.0761      1000\n",
      "          游戏     0.1132    0.0360    0.0546      1000\n",
      "          科技     0.0738    0.0090    0.0160      1000\n",
      "          财经     0.0777    0.0240    0.0367      1000\n",
      "\n",
      "    accuracy                         0.1592     10000\n",
      "   macro avg     0.1261    0.1592    0.0926     10000\n",
      "weighted avg     0.1261    0.1592    0.0926     10000\n",
      "\n"
     ]
    }
   ],
   "source": [
    "experiment_size(20)"
   ]
  },
  {
   "cell_type": "code",
   "execution_count": 18,
   "id": "ac552c4a",
   "metadata": {},
   "outputs": [
    {
     "name": "stdout",
     "output_type": "stream",
     "text": [
      "(500, 128)\n",
      "              precision    recall  f1-score   support\n",
      "\n",
      "          体育     0.2382    0.2470    0.2425      1000\n",
      "          娱乐     0.0921    0.1030    0.0973      1000\n",
      "          家居     0.0703    0.0360    0.0476      1000\n",
      "          房产     0.1329    0.0380    0.0591      1000\n",
      "          教育     0.1950    0.7430    0.3089      1000\n",
      "          时尚     0.4104    0.5980    0.4868      1000\n",
      "          时政     0.2907    0.1980    0.2356      1000\n",
      "          游戏     0.1720    0.0270    0.0467      1000\n",
      "          科技     0.1642    0.0110    0.0206      1000\n",
      "          财经     0.2151    0.1880    0.2006      1000\n",
      "\n",
      "    accuracy                         0.2189     10000\n",
      "   macro avg     0.1981    0.2189    0.1746     10000\n",
      "weighted avg     0.1981    0.2189    0.1746     10000\n",
      "\n"
     ]
    }
   ],
   "source": [
    "experiment_size(50)"
   ]
  },
  {
   "cell_type": "code",
   "execution_count": 19,
   "id": "e430cbac",
   "metadata": {},
   "outputs": [
    {
     "name": "stdout",
     "output_type": "stream",
     "text": [
      "(1000, 128)\n",
      "              precision    recall  f1-score   support\n",
      "\n",
      "          体育     0.5134    0.5350    0.5240      1000\n",
      "          娱乐     0.3769    0.1500    0.2146      1000\n",
      "          家居     0.0819    0.0420    0.0555      1000\n",
      "          房产     0.2799    0.1660    0.2084      1000\n",
      "          教育     0.2875    0.6980    0.4072      1000\n",
      "          时尚     0.4442    0.7120    0.5471      1000\n",
      "          时政     0.2383    0.2300    0.2341      1000\n",
      "          游戏     0.3008    0.1820    0.2268      1000\n",
      "          科技     0.2869    0.1070    0.1559      1000\n",
      "          财经     0.5574    0.8250    0.6653      1000\n",
      "\n",
      "    accuracy                         0.3647     10000\n",
      "   macro avg     0.3367    0.3647    0.3239     10000\n",
      "weighted avg     0.3367    0.3647    0.3239     10000\n",
      "\n"
     ]
    }
   ],
   "source": [
    "experiment_size(100)"
   ]
  },
  {
   "cell_type": "code",
   "execution_count": 20,
   "id": "38de8099",
   "metadata": {},
   "outputs": [
    {
     "name": "stdout",
     "output_type": "stream",
     "text": [
      "(5000, 128)\n",
      "              precision    recall  f1-score   support\n",
      "\n",
      "          体育     0.9421    0.9440    0.9431      1000\n",
      "          娱乐     0.8112    0.9110    0.8582      1000\n",
      "          家居     0.6667    0.2400    0.3529      1000\n",
      "          房产     0.5519    0.7600    0.6395      1000\n",
      "          教育     0.9205    0.7180    0.8067      1000\n",
      "          时尚     0.8092    0.8950    0.8500      1000\n",
      "          时政     0.8338    0.8180    0.8258      1000\n",
      "          游戏     0.8208    0.8290    0.8249      1000\n",
      "          科技     0.6907    0.7840    0.7344      1000\n",
      "          财经     0.8552    0.9630    0.9059      1000\n",
      "\n",
      "    accuracy                         0.7862     10000\n",
      "   macro avg     0.7902    0.7862    0.7741     10000\n",
      "weighted avg     0.7902    0.7862    0.7741     10000\n",
      "\n"
     ]
    }
   ],
   "source": [
    "experiment_size(500)"
   ]
  },
  {
   "cell_type": "code",
   "execution_count": 21,
   "id": "ad0da332",
   "metadata": {},
   "outputs": [
    {
     "name": "stdout",
     "output_type": "stream",
     "text": [
      "(10000, 128)\n",
      "              precision    recall  f1-score   support\n",
      "\n",
      "          体育     0.9889    0.9800    0.9844      1000\n",
      "          娱乐     0.9384    0.9600    0.9491      1000\n",
      "          家居     0.8526    0.4280    0.5699      1000\n",
      "          房产     0.6936    0.8150    0.7494      1000\n",
      "          教育     0.9191    0.8070    0.8594      1000\n",
      "          时尚     0.8390    0.9380    0.8857      1000\n",
      "          时政     0.8787    0.8980    0.8882      1000\n",
      "          游戏     0.8720    0.8990    0.8853      1000\n",
      "          科技     0.8126    0.8890    0.8491      1000\n",
      "          财经     0.8319    0.9700    0.8957      1000\n",
      "\n",
      "    accuracy                         0.8584     10000\n",
      "   macro avg     0.8627    0.8584    0.8516     10000\n",
      "weighted avg     0.8627    0.8584    0.8516     10000\n",
      "\n"
     ]
    }
   ],
   "source": [
    "experiment_size(1000)"
   ]
  },
  {
   "cell_type": "code",
   "execution_count": 64,
   "id": "f7c8e8bf",
   "metadata": {},
   "outputs": [],
   "source": [
    "accs_1 = [0.1592, 0.2189, 0.3647, 0.7862, 0.8584]"
   ]
  },
  {
   "cell_type": "markdown",
   "id": "5ac39244",
   "metadata": {},
   "source": [
    "# Supervised: Different train size, but train Word2Vec on whole training data"
   ]
  },
  {
   "cell_type": "code",
   "execution_count": 22,
   "id": "acec3dc6",
   "metadata": {},
   "outputs": [],
   "source": [
    "w2v_model = Word2Vec.load('./w2v.model')"
   ]
  },
  {
   "cell_type": "code",
   "execution_count": 23,
   "id": "14b34711",
   "metadata": {},
   "outputs": [],
   "source": [
    "def experiment_size(n):\n",
    "    train_tiny, unlabeled = split_data(train, num_samples_per_class=n)\n",
    "    \n",
    "    X_train = np.vstack(train_tiny.doc_vector)\n",
    "    y_train = train_tiny.label\n",
    "    print(X_train.shape)\n",
    "\n",
    "    X_test = np.vstack(test.doc_vector)\n",
    "    y_test = test.label\n",
    "    \n",
    "    model = LogisticRegression(max_iter=500)\n",
    "    model.fit(X_train, y_train)\n",
    "\n",
    "    y_test_pred = model.predict(X_test)\n",
    "    print(metrics.classification_report(y_test, y_test_pred, digits=4))"
   ]
  },
  {
   "cell_type": "code",
   "execution_count": 24,
   "id": "7502cb92",
   "metadata": {},
   "outputs": [
    {
     "name": "stdout",
     "output_type": "stream",
     "text": [
      "(200, 128)\n",
      "              precision    recall  f1-score   support\n",
      "\n",
      "          体育     0.9917    0.9540    0.9725      1000\n",
      "          娱乐     0.9638    0.9580    0.9609      1000\n",
      "          家居     0.6289    0.2000    0.3035      1000\n",
      "          房产     0.5344    0.8470    0.6553      1000\n",
      "          教育     0.8719    0.7830    0.8251      1000\n",
      "          时尚     0.8041    0.9360    0.8651      1000\n",
      "          时政     0.8737    0.9130    0.8929      1000\n",
      "          游戏     0.8643    0.9360    0.8987      1000\n",
      "          科技     0.9059    0.7990    0.8491      1000\n",
      "          财经     0.9205    0.9840    0.9512      1000\n",
      "\n",
      "    accuracy                         0.8310     10000\n",
      "   macro avg     0.8359    0.8310    0.8174     10000\n",
      "weighted avg     0.8359    0.8310    0.8174     10000\n",
      "\n"
     ]
    }
   ],
   "source": [
    "experiment_size(20)"
   ]
  },
  {
   "cell_type": "code",
   "execution_count": 25,
   "id": "6d4ba7d3",
   "metadata": {},
   "outputs": [
    {
     "name": "stdout",
     "output_type": "stream",
     "text": [
      "(500, 128)\n",
      "              precision    recall  f1-score   support\n",
      "\n",
      "          体育     0.9918    0.9680    0.9798      1000\n",
      "          娱乐     0.9465    0.9550    0.9507      1000\n",
      "          家居     0.7906    0.3020    0.4370      1000\n",
      "          房产     0.5936    0.8150    0.6869      1000\n",
      "          教育     0.8834    0.8030    0.8413      1000\n",
      "          时尚     0.8165    0.9610    0.8829      1000\n",
      "          时政     0.8973    0.8820    0.8896      1000\n",
      "          游戏     0.8399    0.8970    0.8675      1000\n",
      "          科技     0.9081    0.8400    0.8727      1000\n",
      "          财经     0.8230    0.9860    0.8972      1000\n",
      "\n",
      "    accuracy                         0.8409     10000\n",
      "   macro avg     0.8491    0.8409    0.8306     10000\n",
      "weighted avg     0.8491    0.8409    0.8306     10000\n",
      "\n"
     ]
    }
   ],
   "source": [
    "experiment_size(50)"
   ]
  },
  {
   "cell_type": "code",
   "execution_count": 26,
   "id": "c8003500",
   "metadata": {},
   "outputs": [
    {
     "name": "stdout",
     "output_type": "stream",
     "text": [
      "(1000, 128)\n",
      "              precision    recall  f1-score   support\n",
      "\n",
      "          体育     0.9959    0.9720    0.9838      1000\n",
      "          娱乐     0.9658    0.9610    0.9634      1000\n",
      "          家居     0.8889    0.4640    0.6097      1000\n",
      "          房产     0.6826    0.8410    0.7536      1000\n",
      "          教育     0.9103    0.7920    0.8471      1000\n",
      "          时尚     0.8602    0.9540    0.9047      1000\n",
      "          时政     0.9025    0.8790    0.8906      1000\n",
      "          游戏     0.8642    0.9480    0.9041      1000\n",
      "          科技     0.8713    0.9210    0.8955      1000\n",
      "          财经     0.8390    0.9800    0.9041      1000\n",
      "\n",
      "    accuracy                         0.8712     10000\n",
      "   macro avg     0.8781    0.8712    0.8657     10000\n",
      "weighted avg     0.8781    0.8712    0.8657     10000\n",
      "\n"
     ]
    }
   ],
   "source": [
    "experiment_size(100)"
   ]
  },
  {
   "cell_type": "code",
   "execution_count": 27,
   "id": "c5cc4785",
   "metadata": {},
   "outputs": [
    {
     "name": "stdout",
     "output_type": "stream",
     "text": [
      "(5000, 128)\n",
      "              precision    recall  f1-score   support\n",
      "\n",
      "          体育     0.9960    0.9840    0.9899      1000\n",
      "          娱乐     0.9768    0.9700    0.9734      1000\n",
      "          家居     0.9268    0.6460    0.7613      1000\n",
      "          房产     0.7779    0.8580    0.8160      1000\n",
      "          教育     0.9220    0.8870    0.9042      1000\n",
      "          时尚     0.9089    0.9580    0.9328      1000\n",
      "          时政     0.9162    0.9180    0.9171      1000\n",
      "          游戏     0.9110    0.9620    0.9358      1000\n",
      "          科技     0.9114    0.9570    0.9337      1000\n",
      "          财经     0.8932    0.9780    0.9337      1000\n",
      "\n",
      "    accuracy                         0.9118     10000\n",
      "   macro avg     0.9140    0.9118    0.9098     10000\n",
      "weighted avg     0.9140    0.9118    0.9098     10000\n",
      "\n"
     ]
    }
   ],
   "source": [
    "experiment_size(500)"
   ]
  },
  {
   "cell_type": "code",
   "execution_count": 28,
   "id": "56fde688",
   "metadata": {},
   "outputs": [
    {
     "name": "stdout",
     "output_type": "stream",
     "text": [
      "(10000, 128)\n",
      "              precision    recall  f1-score   support\n",
      "\n",
      "          体育     0.9950    0.9890    0.9920      1000\n",
      "          娱乐     0.9798    0.9720    0.9759      1000\n",
      "          家居     0.9472    0.6460    0.7681      1000\n",
      "          房产     0.7888    0.8590    0.8224      1000\n",
      "          教育     0.9184    0.8670    0.8920      1000\n",
      "          时尚     0.9041    0.9620    0.9322      1000\n",
      "          时政     0.9102    0.9330    0.9215      1000\n",
      "          游戏     0.9154    0.9630    0.9386      1000\n",
      "          科技     0.8968    0.9730    0.9333      1000\n",
      "          财经     0.9143    0.9810    0.9465      1000\n",
      "\n",
      "    accuracy                         0.9145     10000\n",
      "   macro avg     0.9170    0.9145    0.9122     10000\n",
      "weighted avg     0.9170    0.9145    0.9122     10000\n",
      "\n"
     ]
    }
   ],
   "source": [
    "experiment_size(1000)"
   ]
  },
  {
   "cell_type": "code",
   "execution_count": 79,
   "id": "70f98410",
   "metadata": {},
   "outputs": [],
   "source": [
    "accs_2 = [0.8310, 0.8409, 0.8712, 0.9118, 0.9145]"
   ]
  },
  {
   "cell_type": "code",
   "execution_count": 74,
   "id": "222ca73a",
   "metadata": {},
   "outputs": [],
   "source": [
    "ns = [x * 10 for x in [20, 50, 100, 500, 1000]]\n",
    "\n",
    "plt.plot(ns, accs_1, marker='.', ms=15, label='Partial')\n",
    "plt.plot(ns, accs_2, marker='.', ms=15, label='Full')\n",
    "plt.legend()\n",
    "plt.xlabel('Train size')\n",
    "plt.ylabel('Test accuracy')\n",
    "plt.show()"
   ]
  },
  {
   "cell_type": "code",
   "execution_count": 76,
   "id": "fe2624ad",
   "metadata": {},
   "outputs": [
    {
     "data": {
      "image/png": "[encoded data removed]",
      "text/plain": [
       "<Figure size 432x288 with 1 Axes>"
      ]
     },
     "metadata": {
      "needs_background": "light"
     },
     "output_type": "display_data"
    }
   ],
   "source": []
  },
  {
   "cell_type": "code",
   "execution_count": null,
   "id": "365afcc2",
   "metadata": {},
   "outputs": [],
   "source": []
  },
  {
   "cell_type": "code",
   "execution_count": null,
   "id": "93b041c5",
   "metadata": {},
   "outputs": [],
   "source": []
  },
  {
   "cell_type": "code",
   "execution_count": null,
   "id": "b9a930c9",
   "metadata": {},
   "outputs": [],
   "source": []
  },
  {
   "cell_type": "code",
   "execution_count": null,
   "id": "016b4531",
   "metadata": {},
   "outputs": [],
   "source": []
  },
  {
   "cell_type": "code",
   "execution_count": 29,
   "id": "8c1dd233",
   "metadata": {},
   "outputs": [],
   "source": [
    "from sklearn.ensemble import RandomForestClassifier"
   ]
  },
  {
   "cell_type": "code",
   "execution_count": 30,
   "id": "58a72fab",
   "metadata": {},
   "outputs": [],
   "source": [
    "def experiment_size(n):\n",
    "    train_tiny, unlabeled = split_data(train, num_samples_per_class=n)\n",
    "    \n",
    "    X_train = np.vstack(train_tiny.doc_vector)\n",
    "    y_train = train_tiny.label\n",
    "    print(X_train.shape)\n",
    "\n",
    "    X_test = np.vstack(test.doc_vector)\n",
    "    y_test = test.label\n",
    "    \n",
    "    model = RandomForestClassifier(n_estimators=30)\n",
    "    model.fit(X_train, y_train)\n",
    "\n",
    "    y_test_pred = model.predict(X_test)\n",
    "    print(metrics.classification_report(y_test, y_test_pred, digits=4))"
   ]
  },
  {
   "cell_type": "code",
   "execution_count": 31,
   "id": "215b3e93",
   "metadata": {},
   "outputs": [
    {
     "name": "stdout",
     "output_type": "stream",
     "text": [
      "20\n",
      "(200, 128)\n",
      "              precision    recall  f1-score   support\n",
      "\n",
      "          体育     0.9128    0.9000    0.9063      1000\n",
      "          娱乐     0.8887    0.8860    0.8873      1000\n",
      "          家居     0.5855    0.2260    0.3261      1000\n",
      "          房产     0.4372    0.6270    0.5152      1000\n",
      "          教育     0.7816    0.7120    0.7452      1000\n",
      "          时尚     0.8547    0.8590    0.8569      1000\n",
      "          时政     0.8098    0.8560    0.8323      1000\n",
      "          游戏     0.8017    0.8330    0.8171      1000\n",
      "          科技     0.8767    0.8390    0.8574      1000\n",
      "          财经     0.7728    0.9490    0.8519      1000\n",
      "\n",
      "    accuracy                         0.7687     10000\n",
      "   macro avg     0.7722    0.7687    0.7596     10000\n",
      "weighted avg     0.7722    0.7687    0.7596     10000\n",
      "\n",
      "50\n",
      "(500, 128)\n",
      "              precision    recall  f1-score   support\n",
      "\n",
      "          体育     0.9685    0.9520    0.9602      1000\n",
      "          娱乐     0.8710    0.8910    0.8809      1000\n",
      "          家居     0.7126    0.2430    0.3624      1000\n",
      "          房产     0.5312    0.8080    0.6410      1000\n",
      "          教育     0.8613    0.7140    0.7808      1000\n",
      "          时尚     0.8662    0.8870    0.8765      1000\n",
      "          时政     0.8200    0.8430    0.8314      1000\n",
      "          游戏     0.7839    0.8560    0.8184      1000\n",
      "          科技     0.8792    0.8810    0.8801      1000\n",
      "          财经     0.8470    0.9800    0.9087      1000\n",
      "\n",
      "    accuracy                         0.8055     10000\n",
      "   macro avg     0.8141    0.8055    0.7940     10000\n",
      "weighted avg     0.8141    0.8055    0.7940     10000\n",
      "\n",
      "100\n",
      "(1000, 128)\n",
      "              precision    recall  f1-score   support\n",
      "\n",
      "          体育     0.9886    0.9540    0.9710      1000\n",
      "          娱乐     0.9046    0.9390    0.9215      1000\n",
      "          家居     0.7533    0.2260    0.3477      1000\n",
      "          房产     0.5296    0.8060    0.6392      1000\n",
      "          教育     0.8636    0.7660    0.8119      1000\n",
      "          时尚     0.8881    0.9210    0.9043      1000\n",
      "          时政     0.8571    0.8580    0.8576      1000\n",
      "          游戏     0.7995    0.8890    0.8419      1000\n",
      "          科技     0.8713    0.9070    0.8888      1000\n",
      "          财经     0.8879    0.9740    0.9289      1000\n",
      "\n",
      "    accuracy                         0.8240     10000\n",
      "   macro avg     0.8344    0.8240    0.8113     10000\n",
      "weighted avg     0.8344    0.8240    0.8113     10000\n",
      "\n",
      "500\n",
      "(5000, 128)\n",
      "              precision    recall  f1-score   support\n",
      "\n",
      "          体育     0.9898    0.9740    0.9819      1000\n",
      "          娱乐     0.9293    0.9470    0.9381      1000\n",
      "          家居     0.8278    0.3220    0.4636      1000\n",
      "          房产     0.5916    0.8330    0.6919      1000\n",
      "          教育     0.9134    0.8330    0.8713      1000\n",
      "          时尚     0.9143    0.9280    0.9211      1000\n",
      "          时政     0.8677    0.8920    0.8797      1000\n",
      "          游戏     0.8425    0.9360    0.8868      1000\n",
      "          科技     0.8898    0.9370    0.9128      1000\n",
      "          财经     0.9038    0.9770    0.9390      1000\n",
      "\n",
      "    accuracy                         0.8579     10000\n",
      "   macro avg     0.8670    0.8579    0.8486     10000\n",
      "weighted avg     0.8670    0.8579    0.8486     10000\n",
      "\n",
      "1000\n",
      "(10000, 128)\n",
      "              precision    recall  f1-score   support\n",
      "\n",
      "          体育     0.9909    0.9800    0.9854      1000\n",
      "          娱乐     0.9275    0.9590    0.9430      1000\n",
      "          家居     0.8747    0.3700    0.5200      1000\n",
      "          房产     0.6220    0.8260    0.7096      1000\n",
      "          教育     0.8980    0.8360    0.8659      1000\n",
      "          时尚     0.9190    0.9420    0.9304      1000\n",
      "          时政     0.8592    0.9030    0.8805      1000\n",
      "          游戏     0.8617    0.9410    0.8996      1000\n",
      "          科技     0.9163    0.9520    0.9338      1000\n",
      "          财经     0.8989    0.9780    0.9368      1000\n",
      "\n",
      "    accuracy                         0.8687     10000\n",
      "   macro avg     0.8768    0.8687    0.8605     10000\n",
      "weighted avg     0.8768    0.8687    0.8605     10000\n",
      "\n"
     ]
    }
   ],
   "source": [
    "for n in [20, 50, 100, 500, 1000]:\n",
    "    print(n)\n",
    "    experiment_size(n)"
   ]
  },
  {
   "cell_type": "code",
   "execution_count": null,
   "id": "5d15c20f",
   "metadata": {},
   "outputs": [],
   "source": []
  },
  {
   "cell_type": "markdown",
   "id": "3cae8adc",
   "metadata": {},
   "source": [
    "# Data Augmentation"
   ]
  },
  {
   "cell_type": "code",
   "execution_count": 32,
   "id": "12049540",
   "metadata": {},
   "outputs": [],
   "source": [
    "from TextRank import textRank"
   ]
  },
  {
   "cell_type": "code",
   "execution_count": 33,
   "id": "c76e88f5",
   "metadata": {},
   "outputs": [],
   "source": [
    "def data_augmentation(tfidf_feature, sentences, top_n=20, threshold=0.4, num_aug=10):\n",
    "    indices = np.argsort(tfidf_feature)[::-1]\n",
    "    replacement = defaultdict(list)\n",
    "    for i, index in enumerate(indices):\n",
    "        if i > top_n or tfidf_feature[index] < 1e-5:\n",
    "            break\n",
    "        token = tfidf_id_to_tokens[index]\n",
    "        similars = [e[0] for e in w2v_model.wv.most_similar(token) if e[1] > threshold]\n",
    "        replacement[token] = similars\n",
    "    augmented = []\n",
    "    for i in range(num_aug):\n",
    "        a = 3\n",
    "        b = len(sentences)\n",
    "        if b <= a:\n",
    "            continue\n",
    "        k = np.random.randint(a, max(a, b))\n",
    "        content = ''.join(np.random.choice(sentences, k))\n",
    "        s = content\n",
    "        for token, similar in replacement.items():\n",
    "            if not similar:\n",
    "                continue\n",
    "            r = np.random.choice(similar)\n",
    "            similar.remove(r)\n",
    "            s = s.replace(token, r)\n",
    "        augmented.append(s)\n",
    "    return augmented"
   ]
  },
  {
   "cell_type": "code",
   "execution_count": 34,
   "id": "e1a50ece",
   "metadata": {},
   "outputs": [],
   "source": [
    "def identity_tokenizer(text):\n",
    "    return text"
   ]
  },
  {
   "cell_type": "code",
   "execution_count": 35,
   "id": "447560af",
   "metadata": {},
   "outputs": [
    {
     "name": "stderr",
     "output_type": "stream",
     "text": [
      "f:\\python\\python37\\lib\\site-packages\\sklearn\\feature_extraction\\text.py:517: UserWarning: The parameter 'token_pattern' will not be used since 'tokenizer' is not None'\n",
      "  \"The parameter 'token_pattern' will not be used\"\n"
     ]
    }
   ],
   "source": [
    "N = 2048\n",
    "tfidf_model = TfidfVectorizer(tokenizer=identity_tokenizer, stop_words=None, lowercase=False, max_features=N) \n",
    "tfidf_model.fit(train.tokens)\n",
    "tfidf_id_to_tokens = {v: k for k, v in tfidf_model.vocabulary_.items()}"
   ]
  },
  {
   "cell_type": "code",
   "execution_count": null,
   "id": "842e2af7",
   "metadata": {},
   "outputs": [],
   "source": []
  },
  {
   "cell_type": "code",
   "execution_count": 36,
   "id": "2b355258",
   "metadata": {},
   "outputs": [],
   "source": [
    "train_tfidf_features = tfidf_model.fit_transform(train.tokens).toarray()\n",
    "test_tfidf_features = tfidf_model.transform(test.tokens).toarray()"
   ]
  },
  {
   "cell_type": "code",
   "execution_count": 37,
   "id": "73adc31e",
   "metadata": {},
   "outputs": [],
   "source": [
    "with open('./data/stop_words_zh.txt', 'r', encoding='utf8') as f:\n",
    "    stopwords = set(f.read().splitlines())\n",
    "\n",
    "\n",
    "punctuation = string.punctuation + \"\"\"！？｡＂＃＄％＆＇（）＊＋，－／：；。＜＝＞＠［＼］＾＿｀｛｜｝～｟｠｢｣､、〃》「」『』【】〔〕〖〗〘〙〚〛〜〝〞〟〰〾〿–—‘'‛“”„‟…‧﹏.\"\"\""
   ]
  },
  {
   "cell_type": "code",
   "execution_count": 38,
   "id": "2c5471bf",
   "metadata": {},
   "outputs": [],
   "source": [
    "def clean_txt(txt):\n",
    "    # txt = re.sub(r'[{}]'.format(punctuation), ' ', txt)\n",
    "    tokens = list(jieba.cut(txt))\n",
    "    tokens = [token for token in tokens if token.strip() and token not in stopwords]\n",
    "    return tokens"
   ]
  },
  {
   "cell_type": "code",
   "execution_count": 46,
   "id": "5ceeae5b",
   "metadata": {},
   "outputs": [],
   "source": [
    "def experiment(num_samples_per_class=20, num_aug=10):\n",
    "    train_tiny, unlabeled = split_data(train, num_samples_per_class)\n",
    "    x = []\n",
    "    y = []\n",
    "    print('Augmentation...')\n",
    "    for index, row in tqdm(train_tiny.iterrows(), total=len(train_tiny)):\n",
    "        tfidf_feature = train_tfidf_features[index]\n",
    "        content = ' '.join(row['tokens'])\n",
    "        label = row['label']\n",
    "\n",
    "        t = textRank.TextRank(row['content'], pr_config={'alpha': 0.85, 'max_iter': 100})\n",
    "        sentences = t.get_n_sentences(10)\n",
    "        sentences = [e[0] for e in sentences]\n",
    "\n",
    "        augmented = data_augmentation(tfidf_feature, sentences, num_aug=num_aug)\n",
    "        augmented = [clean_txt(e) for e in augmented]\n",
    "        augmented.append(row['tokens'])\n",
    "\n",
    "        x.extend(augmented)\n",
    "        y.extend([label] * len(augmented))\n",
    "        \n",
    "    augmented_df = pd.DataFrame({\n",
    "        'tokens': [str(e) for e in x],\n",
    "        'label': y\n",
    "    })\n",
    "    augmented_df['tokens'] = augmented_df['tokens'].apply(eval)\n",
    "    augmented_df['doc_vector'] = augmented_df.tokens.apply(lambda tokens: average_feature(w2v_model, tokens))\n",
    "    \n",
    "    X_train = np.vstack(augmented_df.doc_vector)\n",
    "    y_train = augmented_df.label\n",
    "    \n",
    "    model = LogisticRegression(max_iter=500)\n",
    "    model.fit(X_train, y_train)\n",
    "    y_test_pred = model.predict(X_test)\n",
    "    print(metrics.classification_report(y_test, y_test_pred, digits=4))"
   ]
  },
  {
   "cell_type": "code",
   "execution_count": 40,
   "id": "b719367b",
   "metadata": {},
   "outputs": [],
   "source": [
    "X_test = np.vstack(test.doc_vector)\n",
    "y_test = test.label"
   ]
  },
  {
   "cell_type": "code",
   "execution_count": 41,
   "id": "7477879d",
   "metadata": {},
   "outputs": [
    {
     "name": "stdout",
     "output_type": "stream",
     "text": [
      "Augmentation...\n"
     ]
    },
    {
     "data": {
      "application/vnd.jupyter.widget-view+json": {
       "model_id": "4d7e7f47b5364426913cba78751b9d3a",
       "version_major": 2,
       "version_minor": 0
      },
      "text/plain": [
       "  0%|          | 0/200 [00:00<?, ?it/s]"
      ]
     },
     "metadata": {},
     "output_type": "display_data"
    },
    {
     "name": "stderr",
     "output_type": "stream",
     "text": [
      "Building prefix dict from the default dictionary ...\n",
      "Loading model from cache C:\\Users\\hp\\AppData\\Local\\Temp\\jieba.cache\n",
      "Loading model cost 0.961 seconds.\n",
      "Prefix dict has been built successfully.\n"
     ]
    },
    {
     "name": "stdout",
     "output_type": "stream",
     "text": [
      "              precision    recall  f1-score   support\n",
      "\n",
      "          体育     0.9918    0.9640    0.9777      1000\n",
      "          娱乐     0.9694    0.9500    0.9596      1000\n",
      "          家居     0.8412    0.1960    0.3179      1000\n",
      "          房产     0.5237    0.8410    0.6454      1000\n",
      "          教育     0.8039    0.8280    0.8158      1000\n",
      "          时尚     0.8170    0.9600    0.8828      1000\n",
      "          时政     0.9222    0.8540    0.8868      1000\n",
      "          游戏     0.8950    0.9460    0.9198      1000\n",
      "          科技     0.9091    0.8900    0.8994      1000\n",
      "          财经     0.9443    0.9840    0.9638      1000\n",
      "\n",
      "    accuracy                         0.8413     10000\n",
      "   macro avg     0.8618    0.8413    0.8269     10000\n",
      "weighted avg     0.8618    0.8413    0.8269     10000\n",
      "\n"
     ]
    }
   ],
   "source": [
    "experiment()"
   ]
  },
  {
   "cell_type": "code",
   "execution_count": 42,
   "id": "a3efe33f",
   "metadata": {},
   "outputs": [
    {
     "name": "stdout",
     "output_type": "stream",
     "text": [
      "Augmentation...\n"
     ]
    },
    {
     "data": {
      "application/vnd.jupyter.widget-view+json": {
       "model_id": "d338983d86264185ad6dccb2a3cf4e85",
       "version_major": 2,
       "version_minor": 0
      },
      "text/plain": [
       "  0%|          | 0/500 [00:00<?, ?it/s]"
      ]
     },
     "metadata": {},
     "output_type": "display_data"
    },
    {
     "name": "stdout",
     "output_type": "stream",
     "text": [
      "              precision    recall  f1-score   support\n",
      "\n",
      "          体育     0.9948    0.9650    0.9797      1000\n",
      "          娱乐     0.9672    0.9430    0.9549      1000\n",
      "          家居     0.9054    0.4020    0.5568      1000\n",
      "          房产     0.6143    0.8760    0.7222      1000\n",
      "          教育     0.8924    0.8130    0.8509      1000\n",
      "          时尚     0.8508    0.9750    0.9087      1000\n",
      "          时政     0.9446    0.8010    0.8669      1000\n",
      "          游戏     0.8464    0.9480    0.8943      1000\n",
      "          科技     0.9115    0.9060    0.9087      1000\n",
      "          财经     0.8448    0.9850    0.9095      1000\n",
      "\n",
      "    accuracy                         0.8614     10000\n",
      "   macro avg     0.8772    0.8614    0.8553     10000\n",
      "weighted avg     0.8772    0.8614    0.8553     10000\n",
      "\n"
     ]
    }
   ],
   "source": [
    "experiment(50)"
   ]
  },
  {
   "cell_type": "code",
   "execution_count": 43,
   "id": "28bbee16",
   "metadata": {},
   "outputs": [
    {
     "name": "stdout",
     "output_type": "stream",
     "text": [
      "Augmentation...\n"
     ]
    },
    {
     "data": {
      "application/vnd.jupyter.widget-view+json": {
       "model_id": "447356c72fc14814a7b3368041c7301a",
       "version_major": 2,
       "version_minor": 0
      },
      "text/plain": [
       "  0%|          | 0/1000 [00:00<?, ?it/s]"
      ]
     },
     "metadata": {},
     "output_type": "display_data"
    },
    {
     "name": "stdout",
     "output_type": "stream",
     "text": [
      "              precision    recall  f1-score   support\n",
      "\n",
      "          体育     0.9969    0.9750    0.9858      1000\n",
      "          娱乐     0.9768    0.9700    0.9734      1000\n",
      "          家居     0.9396    0.5440    0.6890      1000\n",
      "          房产     0.6945    0.8890    0.7798      1000\n",
      "          教育     0.9134    0.7910    0.8478      1000\n",
      "          时尚     0.8479    0.9700    0.9049      1000\n",
      "          时政     0.9463    0.8110    0.8735      1000\n",
      "          游戏     0.8816    0.9680    0.9228      1000\n",
      "          科技     0.8726    0.9450    0.9073      1000\n",
      "          财经     0.8743    0.9810    0.9246      1000\n",
      "\n",
      "    accuracy                         0.8844     10000\n",
      "   macro avg     0.8944    0.8844    0.8809     10000\n",
      "weighted avg     0.8944    0.8844    0.8809     10000\n",
      "\n"
     ]
    }
   ],
   "source": [
    "experiment(100)"
   ]
  },
  {
   "cell_type": "code",
   "execution_count": 44,
   "id": "fabd73ef",
   "metadata": {},
   "outputs": [
    {
     "name": "stdout",
     "output_type": "stream",
     "text": [
      "Augmentation...\n"
     ]
    },
    {
     "data": {
      "application/vnd.jupyter.widget-view+json": {
       "model_id": "af3ee04ff999472a8b07b438f6eef510",
       "version_major": 2,
       "version_minor": 0
      },
      "text/plain": [
       "  0%|          | 0/5000 [00:00<?, ?it/s]"
      ]
     },
     "metadata": {},
     "output_type": "display_data"
    },
    {
     "name": "stdout",
     "output_type": "stream",
     "text": [
      "              precision    recall  f1-score   support\n",
      "\n",
      "          体育     0.9900    0.9920    0.9910      1000\n",
      "          娱乐     0.9729    0.9700    0.9715      1000\n",
      "          家居     0.9616    0.6760    0.7939      1000\n",
      "          房产     0.7394    0.9050    0.8138      1000\n",
      "          教育     0.9090    0.8590    0.8833      1000\n",
      "          时尚     0.9293    0.9600    0.9444      1000\n",
      "          时政     0.9579    0.8650    0.9091      1000\n",
      "          游戏     0.8885    0.9800    0.9320      1000\n",
      "          科技     0.9201    0.9560    0.9377      1000\n",
      "          财经     0.9324    0.9800    0.9556      1000\n",
      "\n",
      "    accuracy                         0.9143     10000\n",
      "   macro avg     0.9201    0.9143    0.9132     10000\n",
      "weighted avg     0.9201    0.9143    0.9132     10000\n",
      "\n"
     ]
    }
   ],
   "source": [
    "experiment(500)"
   ]
  },
  {
   "cell_type": "code",
   "execution_count": 47,
   "id": "f7899fcf",
   "metadata": {},
   "outputs": [
    {
     "name": "stdout",
     "output_type": "stream",
     "text": [
      "Augmentation...\n"
     ]
    },
    {
     "data": {
      "application/vnd.jupyter.widget-view+json": {
       "model_id": "a71d000e5e854839825cf5e1aa701904",
       "version_major": 2,
       "version_minor": 0
      },
      "text/plain": [
       "  0%|          | 0/10000 [00:00<?, ?it/s]"
      ]
     },
     "metadata": {},
     "output_type": "display_data"
    },
    {
     "name": "stdout",
     "output_type": "stream",
     "text": [
      "              precision    recall  f1-score   support\n",
      "\n",
      "          体育     0.9920    0.9900    0.9910      1000\n",
      "          娱乐     0.9760    0.9780    0.9770      1000\n",
      "          家居     0.9596    0.6420    0.7693      1000\n",
      "          房产     0.7574    0.8900    0.8184      1000\n",
      "          教育     0.9189    0.8380    0.8766      1000\n",
      "          时尚     0.9163    0.9630    0.9391      1000\n",
      "          时政     0.9400    0.9090    0.9243      1000\n",
      "          游戏     0.8811    0.9780    0.9270      1000\n",
      "          科技     0.9193    0.9680    0.9430      1000\n",
      "          财经     0.9276    0.9860    0.9559      1000\n",
      "\n",
      "    accuracy                         0.9142     10000\n",
      "   macro avg     0.9188    0.9142    0.9122     10000\n",
      "weighted avg     0.9188    0.9142    0.9122     10000\n",
      "\n"
     ]
    }
   ],
   "source": [
    "experiment(1000, num_aug=2)"
   ]
  },
  {
   "cell_type": "code",
   "execution_count": 78,
   "id": "65101c25",
   "metadata": {},
   "outputs": [],
   "source": [
    "accs_3 = [0.8413     , 0.8614, 0.8844, 0.9143, 0.9142]"
   ]
  },
  {
   "cell_type": "code",
   "execution_count": 82,
   "id": "66a1a5ac",
   "metadata": {},
   "outputs": [
    {
     "data": {
      "text/plain": [
       "[0.831, 0.8409, 0.8712, 0.9118, 0.9145]"
      ]
     },
     "execution_count": 82,
     "metadata": {},
     "output_type": "execute_result"
    }
   ],
   "source": [
    "accs_2"
   ]
  },
  {
   "cell_type": "code",
   "execution_count": null,
   "id": "d3bcf09e",
   "metadata": {},
   "outputs": [],
   "source": []
  },
  {
   "cell_type": "code",
   "execution_count": null,
   "id": "80227806",
   "metadata": {},
   "outputs": [],
   "source": []
  },
  {
   "cell_type": "code",
   "execution_count": null,
   "id": "0feab5c1",
   "metadata": {},
   "outputs": [],
   "source": []
  },
  {
   "cell_type": "code",
   "execution_count": null,
   "id": "a14ba13c",
   "metadata": {},
   "outputs": [],
   "source": []
  },
  {
   "cell_type": "code",
   "execution_count": 80,
   "id": "3c227f3a",
   "metadata": {},
   "outputs": [
    {
     "data": {
      "image/png": "[encoded data removed]",
      "text/plain": [
       "<Figure size 432x288 with 1 Axes>"
      ]
     },
     "metadata": {
      "needs_background": "light"
     },
     "output_type": "display_data"
    }
   ],
   "source": [
    "ns = [x * 10 for x in [20, 50, 100, 500, 1000]]\n",
    "\n",
    "plt.plot(ns, accs_1, marker='.', ms=15, label='Partial')\n",
    "plt.plot(ns, accs_2, marker='.', ms=15, label='Full')\n",
    "plt.plot(ns, accs_3, marker='.', ms=15, label='Augment')\n",
    "plt.legend()\n",
    "plt.xlabel('Train size')\n",
    "plt.ylabel('Test accuracy')\n",
    "plt.show()"
   ]
  },
  {
   "cell_type": "code",
   "execution_count": 81,
   "id": "6b0c42ab",
   "metadata": {},
   "outputs": [
    {
     "data": {
      "text/plain": [
       "[200, 500, 1000, 5000, 10000]"
      ]
     },
     "execution_count": 81,
     "metadata": {},
     "output_type": "execute_result"
    }
   ],
   "source": [
    "ns"
   ]
  },
  {
   "cell_type": "code",
   "execution_count": null,
   "id": "044b742c",
   "metadata": {},
   "outputs": [],
   "source": []
  },
  {
   "cell_type": "code",
   "execution_count": null,
   "id": "d7aeae8a",
   "metadata": {},
   "outputs": [],
   "source": []
  },
  {
   "cell_type": "code",
   "execution_count": null,
   "id": "4387b475",
   "metadata": {},
   "outputs": [],
   "source": []
  },
  {
   "cell_type": "code",
   "execution_count": null,
   "id": "e1bad832",
   "metadata": {},
   "outputs": [],
   "source": []
  }
 ],
 "metadata": {
  "kernelspec": {
   "display_name": "Python 3",
   "language": "python",
   "name": "python3"
  },
  "language_info": {
   "codemirror_mode": {
    "name": "ipython",
    "version": 3
   },
   "file_extension": ".py",
   "mimetype": "text/x-python",
   "name": "python",
   "nbconvert_exporter": "python",
   "pygments_lexer": "ipython3",
   "version": "3.7.8"
  }
 },
 "nbformat": 4,
 "nbformat_minor": 5
}
